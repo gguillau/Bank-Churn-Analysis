{
 "cells": [
  {
   "cell_type": "markdown",
   "metadata": {},
   "source": [
    "## Project description\n",
    "Beta Bank customers are leaving: little by little, chipping away every month. The bankers figured out it’s cheaper to save the existing customers rather than to attract new ones.\n",
    "We need to predict whether a customer will leave the bank soon. You have the data on clients’ past behavior and termination of contracts with the bank.\n",
    "Build a model with the maximum possible F1 score. To pass the project, you need an F1 score of at least 0.59. Check the F1 for the test set.\n",
    "Additionally, measure the AUC-ROC metric and compare it with the F1.\n",
    "\n",
    "### Outline\n",
    "- Data Preprocessiong\n",
    "- Exploratory Data Analysis\n",
    "- Supervised Learning\n",
    "    - Feature Preparation\n",
    "\n",
    "### Data description\n",
    "The data can be found in /datasets/Churn.csv file. Download the dataset.\n",
    "- Features\n",
    "    - RowNumber — data string index\n",
    "    - CustomerId — unique customer identifier\n",
    "    - Surname — surname\n",
    "    - CreditScore — credit score\n",
    "    - Geography — country of residence\n",
    "    - Gender — gender\n",
    "    - Age — age\n",
    "    - Tenure — period of maturation for a customer’s fixed deposit (years)\n",
    "    - Balance — account balance\n",
    "    - NumOfProducts — number of banking products used by the customer\n",
    "    - HasCrCard — customer has a credit card\n",
    "    - IsActiveMember — customer’s activeness\n",
    "    - EstimatedSalary — estimated salary\n",
    "- Target\n",
    "    - Exited — сustomer has left\n"
   ]
  },
  {
   "cell_type": "markdown",
   "metadata": {},
   "source": [
    "## Data Preprocessing"
   ]
  },
  {
   "cell_type": "code",
   "execution_count": 1,
   "metadata": {},
   "outputs": [],
   "source": [
    "# Initialize\n",
    "\n",
    "import pandas as pd\n",
    "import numpy as np\n",
    "import seaborn as sns\n",
    "import matplotlib.pyplot as plt\n",
    "\n",
    "from sklearn.linear_model import LinearRegression\n",
    "from sklearn.linear_model import LogisticRegression\n",
    "from sklearn.ensemble import RandomForestClassifier\n",
    "\n",
    "from sklearn.preprocessing import StandardScaler \n",
    "from sklearn.model_selection import train_test_split\n",
    "from sklearn.metrics import f1_score\n",
    "from sklearn.metrics import roc_curve\n",
    "from sklearn.metrics import roc_auc_score\n",
    "from sklearn.utils import shuffle\n",
    "from sklearn.utils import resample\n",
    "from sklearn.tree import DecisionTreeClassifier\n",
    "\n",
    "import sys\n",
    "import warnings\n",
    "if not sys.warnoptions:\n",
    "       warnings.simplefilter(\"ignore\")\n",
    "\n",
    "\n"
   ]
  },
  {
   "cell_type": "code",
   "execution_count": 2,
   "metadata": {},
   "outputs": [
    {
     "name": "stdout",
     "output_type": "stream",
     "text": [
      "<class 'pandas.core.frame.DataFrame'>\n",
      "RangeIndex: 10000 entries, 0 to 9999\n",
      "Data columns (total 14 columns):\n",
      " #   Column           Non-Null Count  Dtype  \n",
      "---  ------           --------------  -----  \n",
      " 0   RowNumber        10000 non-null  int64  \n",
      " 1   CustomerId       10000 non-null  int64  \n",
      " 2   Surname          10000 non-null  object \n",
      " 3   CreditScore      10000 non-null  int64  \n",
      " 4   Geography        10000 non-null  object \n",
      " 5   Gender           10000 non-null  object \n",
      " 6   Age              10000 non-null  int64  \n",
      " 7   Tenure           9091 non-null   float64\n",
      " 8   Balance          10000 non-null  float64\n",
      " 9   NumOfProducts    10000 non-null  int64  \n",
      " 10  HasCrCard        10000 non-null  int64  \n",
      " 11  IsActiveMember   10000 non-null  int64  \n",
      " 12  EstimatedSalary  10000 non-null  float64\n",
      " 13  Exited           10000 non-null  int64  \n",
      "dtypes: float64(3), int64(8), object(3)\n",
      "memory usage: 1.1+ MB\n"
     ]
    }
   ],
   "source": [
    "# Print the general/summary information about the DataFrame\n",
    "\n",
    "data = pd.read_csv('/datasets/Churn.csv')\n",
    "data.info()\n"
   ]
  },
  {
   "cell_type": "markdown",
   "metadata": {},
   "source": [
    "There are missing values in the Tenure column. We have 9091 records out of 10000 total. The values in the Tenure appear to be integers, therefore they will be converted."
   ]
  },
  {
   "cell_type": "code",
   "execution_count": 3,
   "metadata": {},
   "outputs": [
    {
     "data": {
      "text/html": [
       "<div>\n",
       "<style scoped>\n",
       "    .dataframe tbody tr th:only-of-type {\n",
       "        vertical-align: middle;\n",
       "    }\n",
       "\n",
       "    .dataframe tbody tr th {\n",
       "        vertical-align: top;\n",
       "    }\n",
       "\n",
       "    .dataframe thead th {\n",
       "        text-align: right;\n",
       "    }\n",
       "</style>\n",
       "<table border=\"1\" class=\"dataframe\">\n",
       "  <thead>\n",
       "    <tr style=\"text-align: right;\">\n",
       "      <th></th>\n",
       "      <th>RowNumber</th>\n",
       "      <th>CustomerId</th>\n",
       "      <th>Surname</th>\n",
       "      <th>CreditScore</th>\n",
       "      <th>Geography</th>\n",
       "      <th>Gender</th>\n",
       "      <th>Age</th>\n",
       "      <th>Tenure</th>\n",
       "      <th>Balance</th>\n",
       "      <th>NumOfProducts</th>\n",
       "      <th>HasCrCard</th>\n",
       "      <th>IsActiveMember</th>\n",
       "      <th>EstimatedSalary</th>\n",
       "      <th>Exited</th>\n",
       "    </tr>\n",
       "  </thead>\n",
       "  <tbody>\n",
       "    <tr>\n",
       "      <th>0</th>\n",
       "      <td>1</td>\n",
       "      <td>15634602</td>\n",
       "      <td>Hargrave</td>\n",
       "      <td>619</td>\n",
       "      <td>France</td>\n",
       "      <td>Female</td>\n",
       "      <td>42</td>\n",
       "      <td>2.0</td>\n",
       "      <td>0.00</td>\n",
       "      <td>1</td>\n",
       "      <td>1</td>\n",
       "      <td>1</td>\n",
       "      <td>101348.88</td>\n",
       "      <td>1</td>\n",
       "    </tr>\n",
       "    <tr>\n",
       "      <th>1</th>\n",
       "      <td>2</td>\n",
       "      <td>15647311</td>\n",
       "      <td>Hill</td>\n",
       "      <td>608</td>\n",
       "      <td>Spain</td>\n",
       "      <td>Female</td>\n",
       "      <td>41</td>\n",
       "      <td>1.0</td>\n",
       "      <td>83807.86</td>\n",
       "      <td>1</td>\n",
       "      <td>0</td>\n",
       "      <td>1</td>\n",
       "      <td>112542.58</td>\n",
       "      <td>0</td>\n",
       "    </tr>\n",
       "    <tr>\n",
       "      <th>2</th>\n",
       "      <td>3</td>\n",
       "      <td>15619304</td>\n",
       "      <td>Onio</td>\n",
       "      <td>502</td>\n",
       "      <td>France</td>\n",
       "      <td>Female</td>\n",
       "      <td>42</td>\n",
       "      <td>8.0</td>\n",
       "      <td>159660.80</td>\n",
       "      <td>3</td>\n",
       "      <td>1</td>\n",
       "      <td>0</td>\n",
       "      <td>113931.57</td>\n",
       "      <td>1</td>\n",
       "    </tr>\n",
       "    <tr>\n",
       "      <th>3</th>\n",
       "      <td>4</td>\n",
       "      <td>15701354</td>\n",
       "      <td>Boni</td>\n",
       "      <td>699</td>\n",
       "      <td>France</td>\n",
       "      <td>Female</td>\n",
       "      <td>39</td>\n",
       "      <td>1.0</td>\n",
       "      <td>0.00</td>\n",
       "      <td>2</td>\n",
       "      <td>0</td>\n",
       "      <td>0</td>\n",
       "      <td>93826.63</td>\n",
       "      <td>0</td>\n",
       "    </tr>\n",
       "    <tr>\n",
       "      <th>4</th>\n",
       "      <td>5</td>\n",
       "      <td>15737888</td>\n",
       "      <td>Mitchell</td>\n",
       "      <td>850</td>\n",
       "      <td>Spain</td>\n",
       "      <td>Female</td>\n",
       "      <td>43</td>\n",
       "      <td>2.0</td>\n",
       "      <td>125510.82</td>\n",
       "      <td>1</td>\n",
       "      <td>1</td>\n",
       "      <td>1</td>\n",
       "      <td>79084.10</td>\n",
       "      <td>0</td>\n",
       "    </tr>\n",
       "  </tbody>\n",
       "</table>\n",
       "</div>"
      ],
      "text/plain": [
       "   RowNumber  CustomerId   Surname  CreditScore Geography  Gender  Age  \\\n",
       "0          1    15634602  Hargrave          619    France  Female   42   \n",
       "1          2    15647311      Hill          608     Spain  Female   41   \n",
       "2          3    15619304      Onio          502    France  Female   42   \n",
       "3          4    15701354      Boni          699    France  Female   39   \n",
       "4          5    15737888  Mitchell          850     Spain  Female   43   \n",
       "\n",
       "   Tenure    Balance  NumOfProducts  HasCrCard  IsActiveMember  \\\n",
       "0     2.0       0.00              1          1               1   \n",
       "1     1.0   83807.86              1          0               1   \n",
       "2     8.0  159660.80              3          1               0   \n",
       "3     1.0       0.00              2          0               0   \n",
       "4     2.0  125510.82              1          1               1   \n",
       "\n",
       "   EstimatedSalary  Exited  \n",
       "0        101348.88       1  \n",
       "1        112542.58       0  \n",
       "2        113931.57       1  \n",
       "3         93826.63       0  \n",
       "4         79084.10       0  "
      ]
     },
     "execution_count": 3,
     "metadata": {},
     "output_type": "execute_result"
    }
   ],
   "source": [
    "# Print sample of table\n",
    "\n",
    "data.head()"
   ]
  },
  {
   "cell_type": "code",
   "execution_count": 4,
   "metadata": {},
   "outputs": [
    {
     "data": {
      "text/html": [
       "<div>\n",
       "<style scoped>\n",
       "    .dataframe tbody tr th:only-of-type {\n",
       "        vertical-align: middle;\n",
       "    }\n",
       "\n",
       "    .dataframe tbody tr th {\n",
       "        vertical-align: top;\n",
       "    }\n",
       "\n",
       "    .dataframe thead th {\n",
       "        text-align: right;\n",
       "    }\n",
       "</style>\n",
       "<table border=\"1\" class=\"dataframe\">\n",
       "  <thead>\n",
       "    <tr style=\"text-align: right;\">\n",
       "      <th></th>\n",
       "      <th>RowNumber</th>\n",
       "      <th>CustomerId</th>\n",
       "      <th>CreditScore</th>\n",
       "      <th>Age</th>\n",
       "      <th>Tenure</th>\n",
       "      <th>Balance</th>\n",
       "      <th>NumOfProducts</th>\n",
       "      <th>HasCrCard</th>\n",
       "      <th>IsActiveMember</th>\n",
       "      <th>EstimatedSalary</th>\n",
       "      <th>Exited</th>\n",
       "    </tr>\n",
       "  </thead>\n",
       "  <tbody>\n",
       "    <tr>\n",
       "      <th>count</th>\n",
       "      <td>10000.00000</td>\n",
       "      <td>1.000000e+04</td>\n",
       "      <td>10000.000000</td>\n",
       "      <td>10000.000000</td>\n",
       "      <td>9091.000000</td>\n",
       "      <td>10000.000000</td>\n",
       "      <td>10000.000000</td>\n",
       "      <td>10000.00000</td>\n",
       "      <td>10000.000000</td>\n",
       "      <td>10000.000000</td>\n",
       "      <td>10000.000000</td>\n",
       "    </tr>\n",
       "    <tr>\n",
       "      <th>mean</th>\n",
       "      <td>5000.50000</td>\n",
       "      <td>1.569094e+07</td>\n",
       "      <td>650.528800</td>\n",
       "      <td>38.921800</td>\n",
       "      <td>4.997690</td>\n",
       "      <td>76485.889288</td>\n",
       "      <td>1.530200</td>\n",
       "      <td>0.70550</td>\n",
       "      <td>0.515100</td>\n",
       "      <td>100090.239881</td>\n",
       "      <td>0.203700</td>\n",
       "    </tr>\n",
       "    <tr>\n",
       "      <th>std</th>\n",
       "      <td>2886.89568</td>\n",
       "      <td>7.193619e+04</td>\n",
       "      <td>96.653299</td>\n",
       "      <td>10.487806</td>\n",
       "      <td>2.894723</td>\n",
       "      <td>62397.405202</td>\n",
       "      <td>0.581654</td>\n",
       "      <td>0.45584</td>\n",
       "      <td>0.499797</td>\n",
       "      <td>57510.492818</td>\n",
       "      <td>0.402769</td>\n",
       "    </tr>\n",
       "    <tr>\n",
       "      <th>min</th>\n",
       "      <td>1.00000</td>\n",
       "      <td>1.556570e+07</td>\n",
       "      <td>350.000000</td>\n",
       "      <td>18.000000</td>\n",
       "      <td>0.000000</td>\n",
       "      <td>0.000000</td>\n",
       "      <td>1.000000</td>\n",
       "      <td>0.00000</td>\n",
       "      <td>0.000000</td>\n",
       "      <td>11.580000</td>\n",
       "      <td>0.000000</td>\n",
       "    </tr>\n",
       "    <tr>\n",
       "      <th>25%</th>\n",
       "      <td>2500.75000</td>\n",
       "      <td>1.562853e+07</td>\n",
       "      <td>584.000000</td>\n",
       "      <td>32.000000</td>\n",
       "      <td>2.000000</td>\n",
       "      <td>0.000000</td>\n",
       "      <td>1.000000</td>\n",
       "      <td>0.00000</td>\n",
       "      <td>0.000000</td>\n",
       "      <td>51002.110000</td>\n",
       "      <td>0.000000</td>\n",
       "    </tr>\n",
       "    <tr>\n",
       "      <th>50%</th>\n",
       "      <td>5000.50000</td>\n",
       "      <td>1.569074e+07</td>\n",
       "      <td>652.000000</td>\n",
       "      <td>37.000000</td>\n",
       "      <td>5.000000</td>\n",
       "      <td>97198.540000</td>\n",
       "      <td>1.000000</td>\n",
       "      <td>1.00000</td>\n",
       "      <td>1.000000</td>\n",
       "      <td>100193.915000</td>\n",
       "      <td>0.000000</td>\n",
       "    </tr>\n",
       "    <tr>\n",
       "      <th>75%</th>\n",
       "      <td>7500.25000</td>\n",
       "      <td>1.575323e+07</td>\n",
       "      <td>718.000000</td>\n",
       "      <td>44.000000</td>\n",
       "      <td>7.000000</td>\n",
       "      <td>127644.240000</td>\n",
       "      <td>2.000000</td>\n",
       "      <td>1.00000</td>\n",
       "      <td>1.000000</td>\n",
       "      <td>149388.247500</td>\n",
       "      <td>0.000000</td>\n",
       "    </tr>\n",
       "    <tr>\n",
       "      <th>max</th>\n",
       "      <td>10000.00000</td>\n",
       "      <td>1.581569e+07</td>\n",
       "      <td>850.000000</td>\n",
       "      <td>92.000000</td>\n",
       "      <td>10.000000</td>\n",
       "      <td>250898.090000</td>\n",
       "      <td>4.000000</td>\n",
       "      <td>1.00000</td>\n",
       "      <td>1.000000</td>\n",
       "      <td>199992.480000</td>\n",
       "      <td>1.000000</td>\n",
       "    </tr>\n",
       "  </tbody>\n",
       "</table>\n",
       "</div>"
      ],
      "text/plain": [
       "         RowNumber    CustomerId   CreditScore           Age       Tenure  \\\n",
       "count  10000.00000  1.000000e+04  10000.000000  10000.000000  9091.000000   \n",
       "mean    5000.50000  1.569094e+07    650.528800     38.921800     4.997690   \n",
       "std     2886.89568  7.193619e+04     96.653299     10.487806     2.894723   \n",
       "min        1.00000  1.556570e+07    350.000000     18.000000     0.000000   \n",
       "25%     2500.75000  1.562853e+07    584.000000     32.000000     2.000000   \n",
       "50%     5000.50000  1.569074e+07    652.000000     37.000000     5.000000   \n",
       "75%     7500.25000  1.575323e+07    718.000000     44.000000     7.000000   \n",
       "max    10000.00000  1.581569e+07    850.000000     92.000000    10.000000   \n",
       "\n",
       "             Balance  NumOfProducts    HasCrCard  IsActiveMember  \\\n",
       "count   10000.000000   10000.000000  10000.00000    10000.000000   \n",
       "mean    76485.889288       1.530200      0.70550        0.515100   \n",
       "std     62397.405202       0.581654      0.45584        0.499797   \n",
       "min         0.000000       1.000000      0.00000        0.000000   \n",
       "25%         0.000000       1.000000      0.00000        0.000000   \n",
       "50%     97198.540000       1.000000      1.00000        1.000000   \n",
       "75%    127644.240000       2.000000      1.00000        1.000000   \n",
       "max    250898.090000       4.000000      1.00000        1.000000   \n",
       "\n",
       "       EstimatedSalary        Exited  \n",
       "count     10000.000000  10000.000000  \n",
       "mean     100090.239881      0.203700  \n",
       "std       57510.492818      0.402769  \n",
       "min          11.580000      0.000000  \n",
       "25%       51002.110000      0.000000  \n",
       "50%      100193.915000      0.000000  \n",
       "75%      149388.247500      0.000000  \n",
       "max      199992.480000      1.000000  "
      ]
     },
     "execution_count": 4,
     "metadata": {},
     "output_type": "execute_result"
    }
   ],
   "source": [
    "# Descriptive statistics\n",
    "\n",
    "data.describe()"
   ]
  },
  {
   "cell_type": "markdown",
   "metadata": {},
   "source": [
    "We can see that features seem to be normally distributed as their mean and median values are close to each other."
   ]
  },
  {
   "cell_type": "markdown",
   "metadata": {},
   "source": [
    "### Missing Values/Duplicates"
   ]
  },
  {
   "cell_type": "code",
   "execution_count": 5,
   "metadata": {},
   "outputs": [
    {
     "data": {
      "text/plain": [
       "0"
      ]
     },
     "execution_count": 5,
     "metadata": {},
     "output_type": "execute_result"
    }
   ],
   "source": [
    "# Duplicates\n",
    "\n",
    "data.duplicated().sum()\n"
   ]
  },
  {
   "cell_type": "code",
   "execution_count": 6,
   "metadata": {},
   "outputs": [
    {
     "data": {
      "text/plain": [
       "RowNumber          0.0000\n",
       "CustomerId         0.0000\n",
       "Surname            0.0000\n",
       "CreditScore        0.0000\n",
       "Geography          0.0000\n",
       "Gender             0.0000\n",
       "Age                0.0000\n",
       "Tenure             0.0909\n",
       "Balance            0.0000\n",
       "NumOfProducts      0.0000\n",
       "HasCrCard          0.0000\n",
       "IsActiveMember     0.0000\n",
       "EstimatedSalary    0.0000\n",
       "Exited             0.0000\n",
       "dtype: float64"
      ]
     },
     "execution_count": 6,
     "metadata": {},
     "output_type": "execute_result"
    }
   ],
   "source": [
    "# Percentage of missing values \n",
    "\n",
    "data.isna().mean()\n",
    "\n",
    "\n",
    "\n"
   ]
  },
  {
   "cell_type": "code",
   "execution_count": 7,
   "metadata": {},
   "outputs": [
    {
     "name": "stdout",
     "output_type": "stream",
     "text": [
      "<class 'pandas.core.frame.DataFrame'>\n",
      "RangeIndex: 10000 entries, 0 to 9999\n",
      "Data columns (total 14 columns):\n",
      " #   Column           Non-Null Count  Dtype  \n",
      "---  ------           --------------  -----  \n",
      " 0   RowNumber        10000 non-null  int64  \n",
      " 1   CustomerId       10000 non-null  int64  \n",
      " 2   Surname          10000 non-null  object \n",
      " 3   CreditScore      10000 non-null  int64  \n",
      " 4   Geography        10000 non-null  object \n",
      " 5   Gender           10000 non-null  object \n",
      " 6   Age              10000 non-null  int64  \n",
      " 7   Tenure           10000 non-null  int64  \n",
      " 8   Balance          10000 non-null  float64\n",
      " 9   NumOfProducts    10000 non-null  int64  \n",
      " 10  HasCrCard        10000 non-null  int64  \n",
      " 11  IsActiveMember   10000 non-null  int64  \n",
      " 12  EstimatedSalary  10000 non-null  float64\n",
      " 13  Exited           10000 non-null  int64  \n",
      "dtypes: float64(2), int64(9), object(3)\n",
      "memory usage: 1.1+ MB\n"
     ]
    }
   ],
   "source": [
    "# Fill missing values with median\n",
    "\n",
    "data['Tenure']= data['Tenure'].fillna(data['Tenure'].median())\n",
    "\n",
    "# Convert Tenure column to int \n",
    "\n",
    "data['Tenure']= data['Tenure'].astype(int)\n",
    "data.info()"
   ]
  },
  {
   "cell_type": "markdown",
   "metadata": {},
   "source": [
    "The Tenure column was converted to the integer format after filling missing values with the median."
   ]
  },
  {
   "cell_type": "code",
   "execution_count": 8,
   "metadata": {},
   "outputs": [],
   "source": [
    "# Dropping 3 columns which will have no use in the Supervised Learning\n",
    "\n",
    "data = data.drop(['CustomerId','RowNumber','Surname'],axis=1)"
   ]
  },
  {
   "cell_type": "markdown",
   "metadata": {},
   "source": [
    "### Lowercase Column Names"
   ]
  },
  {
   "cell_type": "code",
   "execution_count": 9,
   "metadata": {},
   "outputs": [
    {
     "data": {
      "text/html": [
       "<div>\n",
       "<style scoped>\n",
       "    .dataframe tbody tr th:only-of-type {\n",
       "        vertical-align: middle;\n",
       "    }\n",
       "\n",
       "    .dataframe tbody tr th {\n",
       "        vertical-align: top;\n",
       "    }\n",
       "\n",
       "    .dataframe thead th {\n",
       "        text-align: right;\n",
       "    }\n",
       "</style>\n",
       "<table border=\"1\" class=\"dataframe\">\n",
       "  <thead>\n",
       "    <tr style=\"text-align: right;\">\n",
       "      <th></th>\n",
       "      <th>creditscore</th>\n",
       "      <th>geography</th>\n",
       "      <th>gender</th>\n",
       "      <th>age</th>\n",
       "      <th>tenure</th>\n",
       "      <th>balance</th>\n",
       "      <th>numofproducts</th>\n",
       "      <th>hascrcard</th>\n",
       "      <th>isactivemember</th>\n",
       "      <th>estimatedsalary</th>\n",
       "      <th>exited</th>\n",
       "    </tr>\n",
       "  </thead>\n",
       "  <tbody>\n",
       "    <tr>\n",
       "      <th>0</th>\n",
       "      <td>619</td>\n",
       "      <td>France</td>\n",
       "      <td>Female</td>\n",
       "      <td>42</td>\n",
       "      <td>2</td>\n",
       "      <td>0.00</td>\n",
       "      <td>1</td>\n",
       "      <td>1</td>\n",
       "      <td>1</td>\n",
       "      <td>101348.88</td>\n",
       "      <td>1</td>\n",
       "    </tr>\n",
       "    <tr>\n",
       "      <th>1</th>\n",
       "      <td>608</td>\n",
       "      <td>Spain</td>\n",
       "      <td>Female</td>\n",
       "      <td>41</td>\n",
       "      <td>1</td>\n",
       "      <td>83807.86</td>\n",
       "      <td>1</td>\n",
       "      <td>0</td>\n",
       "      <td>1</td>\n",
       "      <td>112542.58</td>\n",
       "      <td>0</td>\n",
       "    </tr>\n",
       "    <tr>\n",
       "      <th>2</th>\n",
       "      <td>502</td>\n",
       "      <td>France</td>\n",
       "      <td>Female</td>\n",
       "      <td>42</td>\n",
       "      <td>8</td>\n",
       "      <td>159660.80</td>\n",
       "      <td>3</td>\n",
       "      <td>1</td>\n",
       "      <td>0</td>\n",
       "      <td>113931.57</td>\n",
       "      <td>1</td>\n",
       "    </tr>\n",
       "    <tr>\n",
       "      <th>3</th>\n",
       "      <td>699</td>\n",
       "      <td>France</td>\n",
       "      <td>Female</td>\n",
       "      <td>39</td>\n",
       "      <td>1</td>\n",
       "      <td>0.00</td>\n",
       "      <td>2</td>\n",
       "      <td>0</td>\n",
       "      <td>0</td>\n",
       "      <td>93826.63</td>\n",
       "      <td>0</td>\n",
       "    </tr>\n",
       "    <tr>\n",
       "      <th>4</th>\n",
       "      <td>850</td>\n",
       "      <td>Spain</td>\n",
       "      <td>Female</td>\n",
       "      <td>43</td>\n",
       "      <td>2</td>\n",
       "      <td>125510.82</td>\n",
       "      <td>1</td>\n",
       "      <td>1</td>\n",
       "      <td>1</td>\n",
       "      <td>79084.10</td>\n",
       "      <td>0</td>\n",
       "    </tr>\n",
       "  </tbody>\n",
       "</table>\n",
       "</div>"
      ],
      "text/plain": [
       "   creditscore geography  gender  age  tenure    balance  numofproducts  \\\n",
       "0          619    France  Female   42       2       0.00              1   \n",
       "1          608     Spain  Female   41       1   83807.86              1   \n",
       "2          502    France  Female   42       8  159660.80              3   \n",
       "3          699    France  Female   39       1       0.00              2   \n",
       "4          850     Spain  Female   43       2  125510.82              1   \n",
       "\n",
       "   hascrcard  isactivemember  estimatedsalary  exited  \n",
       "0          1               1        101348.88       1  \n",
       "1          0               1        112542.58       0  \n",
       "2          1               0        113931.57       1  \n",
       "3          0               0         93826.63       0  \n",
       "4          1               1         79084.10       0  "
      ]
     },
     "execution_count": 9,
     "metadata": {},
     "output_type": "execute_result"
    }
   ],
   "source": [
    "# Make every column lowercase\n",
    "\n",
    "data.columns = data.columns.str.lower()\n",
    "data.head()"
   ]
  },
  {
   "cell_type": "markdown",
   "metadata": {},
   "source": [
    "### Categorical Features Encoding"
   ]
  },
  {
   "cell_type": "code",
   "execution_count": 10,
   "metadata": {},
   "outputs": [
    {
     "data": {
      "text/plain": [
       "France     5014\n",
       "Germany    2509\n",
       "Spain      2477\n",
       "Name: geography, dtype: int64"
      ]
     },
     "execution_count": 10,
     "metadata": {},
     "output_type": "execute_result"
    }
   ],
   "source": [
    "# Geography column\n",
    "\n",
    "data.geography.value_counts()"
   ]
  },
  {
   "cell_type": "code",
   "execution_count": 11,
   "metadata": {},
   "outputs": [
    {
     "data": {
      "text/plain": [
       "Male      5457\n",
       "Female    4543\n",
       "Name: gender, dtype: int64"
      ]
     },
     "execution_count": 11,
     "metadata": {},
     "output_type": "execute_result"
    }
   ],
   "source": [
    "# Gender column\n",
    "\n",
    "data.gender.value_counts()"
   ]
  },
  {
   "cell_type": "markdown",
   "metadata": {},
   "source": [
    "Gender is a binary variable, both values are equally represented in the data frame. We'll use OHE method for it as well. We will drop the first column for each encoded feature to avoid the dummy trap."
   ]
  },
  {
   "cell_type": "code",
   "execution_count": 12,
   "metadata": {},
   "outputs": [
    {
     "data": {
      "text/html": [
       "<div>\n",
       "<style scoped>\n",
       "    .dataframe tbody tr th:only-of-type {\n",
       "        vertical-align: middle;\n",
       "    }\n",
       "\n",
       "    .dataframe tbody tr th {\n",
       "        vertical-align: top;\n",
       "    }\n",
       "\n",
       "    .dataframe thead th {\n",
       "        text-align: right;\n",
       "    }\n",
       "</style>\n",
       "<table border=\"1\" class=\"dataframe\">\n",
       "  <thead>\n",
       "    <tr style=\"text-align: right;\">\n",
       "      <th></th>\n",
       "      <th>creditscore</th>\n",
       "      <th>age</th>\n",
       "      <th>tenure</th>\n",
       "      <th>balance</th>\n",
       "      <th>numofproducts</th>\n",
       "      <th>hascrcard</th>\n",
       "      <th>isactivemember</th>\n",
       "      <th>estimatedsalary</th>\n",
       "      <th>exited</th>\n",
       "      <th>geography_Germany</th>\n",
       "      <th>geography_Spain</th>\n",
       "      <th>gender_Male</th>\n",
       "    </tr>\n",
       "  </thead>\n",
       "  <tbody>\n",
       "    <tr>\n",
       "      <th>0</th>\n",
       "      <td>619</td>\n",
       "      <td>42</td>\n",
       "      <td>2</td>\n",
       "      <td>0.00</td>\n",
       "      <td>1</td>\n",
       "      <td>1</td>\n",
       "      <td>1</td>\n",
       "      <td>101348.88</td>\n",
       "      <td>1</td>\n",
       "      <td>0</td>\n",
       "      <td>0</td>\n",
       "      <td>0</td>\n",
       "    </tr>\n",
       "    <tr>\n",
       "      <th>1</th>\n",
       "      <td>608</td>\n",
       "      <td>41</td>\n",
       "      <td>1</td>\n",
       "      <td>83807.86</td>\n",
       "      <td>1</td>\n",
       "      <td>0</td>\n",
       "      <td>1</td>\n",
       "      <td>112542.58</td>\n",
       "      <td>0</td>\n",
       "      <td>0</td>\n",
       "      <td>1</td>\n",
       "      <td>0</td>\n",
       "    </tr>\n",
       "    <tr>\n",
       "      <th>2</th>\n",
       "      <td>502</td>\n",
       "      <td>42</td>\n",
       "      <td>8</td>\n",
       "      <td>159660.80</td>\n",
       "      <td>3</td>\n",
       "      <td>1</td>\n",
       "      <td>0</td>\n",
       "      <td>113931.57</td>\n",
       "      <td>1</td>\n",
       "      <td>0</td>\n",
       "      <td>0</td>\n",
       "      <td>0</td>\n",
       "    </tr>\n",
       "    <tr>\n",
       "      <th>3</th>\n",
       "      <td>699</td>\n",
       "      <td>39</td>\n",
       "      <td>1</td>\n",
       "      <td>0.00</td>\n",
       "      <td>2</td>\n",
       "      <td>0</td>\n",
       "      <td>0</td>\n",
       "      <td>93826.63</td>\n",
       "      <td>0</td>\n",
       "      <td>0</td>\n",
       "      <td>0</td>\n",
       "      <td>0</td>\n",
       "    </tr>\n",
       "    <tr>\n",
       "      <th>4</th>\n",
       "      <td>850</td>\n",
       "      <td>43</td>\n",
       "      <td>2</td>\n",
       "      <td>125510.82</td>\n",
       "      <td>1</td>\n",
       "      <td>1</td>\n",
       "      <td>1</td>\n",
       "      <td>79084.10</td>\n",
       "      <td>0</td>\n",
       "      <td>0</td>\n",
       "      <td>1</td>\n",
       "      <td>0</td>\n",
       "    </tr>\n",
       "  </tbody>\n",
       "</table>\n",
       "</div>"
      ],
      "text/plain": [
       "   creditscore  age  tenure    balance  numofproducts  hascrcard  \\\n",
       "0          619   42       2       0.00              1          1   \n",
       "1          608   41       1   83807.86              1          0   \n",
       "2          502   42       8  159660.80              3          1   \n",
       "3          699   39       1       0.00              2          0   \n",
       "4          850   43       2  125510.82              1          1   \n",
       "\n",
       "   isactivemember  estimatedsalary  exited  geography_Germany  \\\n",
       "0               1        101348.88       1                  0   \n",
       "1               1        112542.58       0                  0   \n",
       "2               0        113931.57       1                  0   \n",
       "3               0         93826.63       0                  0   \n",
       "4               1         79084.10       0                  0   \n",
       "\n",
       "   geography_Spain  gender_Male  \n",
       "0                0            0  \n",
       "1                1            0  \n",
       "2                0            0  \n",
       "3                0            0  \n",
       "4                1            0  "
      ]
     },
     "execution_count": 12,
     "metadata": {},
     "output_type": "execute_result"
    }
   ],
   "source": [
    "# One-Hot-Encoding of gender and geography columns.\n",
    "\n",
    "df_OHE = pd.get_dummies(data,drop_first=True)\n",
    "df_OHE.head()"
   ]
  },
  {
   "cell_type": "markdown",
   "metadata": {},
   "source": [
    "## Exploratory Data Analysis"
   ]
  },
  {
   "cell_type": "code",
   "execution_count": 13,
   "metadata": {},
   "outputs": [
    {
     "data": {
      "text/plain": [
       "Text(0.5, 1.0, 'Distribution of target variable')"
      ]
     },
     "execution_count": 13,
     "metadata": {},
     "output_type": "execute_result"
    },
    {
     "data": {
      "image/png": "[encoded data removed]",
      "text/plain": [
       "<Figure size 432x288 with 1 Axes>"
      ]
     },
     "metadata": {
      "needs_background": "light"
     },
     "output_type": "display_data"
    }
   ],
   "source": [
    "# Distribution of Target column 'Exited'\n",
    "ax=sns.countplot(x='exited', data=df_OHE)\n",
    "ax.set_title('Distribution of target variable')\n"
   ]
  },
  {
   "cell_type": "markdown",
   "metadata": {},
   "source": [
    "We see that our classes are indeed imbalanced: there are more than twice as many observations when a client stayed with the bank than of those who left."
   ]
  },
  {
   "cell_type": "markdown",
   "metadata": {},
   "source": [
    "## Supervised Learning"
   ]
  },
  {
   "cell_type": "markdown",
   "metadata": {},
   "source": [
    "### Feature Preparation"
   ]
  },
  {
   "cell_type": "code",
   "execution_count": 14,
   "metadata": {},
   "outputs": [],
   "source": [
    "# Features and Target variables\n",
    "\n",
    "features = df_OHE.drop(columns=['exited'],axis=1)\n",
    "target =  df_OHE['exited']\n",
    "\n",
    "\n"
   ]
  },
  {
   "cell_type": "code",
   "execution_count": 15,
   "metadata": {},
   "outputs": [
    {
     "name": "stdout",
     "output_type": "stream",
     "text": [
      "6400\n",
      "6400\n",
      "2000\n",
      "2000\n",
      "1600\n",
      "1600\n"
     ]
    }
   ],
   "source": [
    "# Examine the balance of classes\n",
    "\n",
    "\n",
    "features_train, features_test, target_train, target_test = train_test_split(features, target, stratify = target, test_size=0.20, random_state=12345)\n",
    "features_train, features_valid, target_train, target_valid = train_test_split(features_train, target_train, stratify = target_train, test_size=0.2, random_state=12345)\n",
    "\n",
    "# Let's take a look at the split:\n",
    "print(len(features_train))\n",
    "print(len(target_train))\n",
    "print(len(features_test))\n",
    "print(len(target_test))\n",
    "print(len(features_valid))\n",
    "print(len(target_valid))\n",
    "\n",
    "#"
   ]
  },
  {
   "cell_type": "markdown",
   "metadata": {},
   "source": [
    "### Feature Scaling"
   ]
  },
  {
   "cell_type": "code",
   "execution_count": 16,
   "metadata": {},
   "outputs": [
    {
     "name": "stdout",
     "output_type": "stream",
     "text": [
      "(6400, 11)\n"
     ]
    }
   ],
   "source": [
    "# Feature Scaling\n",
    "\n",
    "numeric = ['creditscore', 'age', 'balance', 'estimatedsalary', 'tenure', 'numofproducts']\n",
    "\n",
    "\n",
    "scaler = StandardScaler()\n",
    "scaler.fit(features_train[numeric])\n",
    "features_train[numeric] = scaler.transform(features_train[numeric])\n",
    "features_valid[numeric] = scaler.transform(features_valid[numeric])\n",
    "features_test[numeric] = scaler.transform(features_test[numeric])\n",
    "\n",
    "print(features_train.shape) \n"
   ]
  },
  {
   "cell_type": "markdown",
   "metadata": {},
   "source": [
    "<div class=\"alert alert-block alert-success\">\n",
    "<b>Success:</b> Great that scaler was fitted only on train part.\n",
    "</div>"
   ]
  },
  {
   "cell_type": "code",
   "execution_count": 17,
   "metadata": {},
   "outputs": [
    {
     "name": "stdout",
     "output_type": "stream",
     "text": [
      "F1: 0.3263403263403264\n",
      "AUC: 0.7890394005643786\n"
     ]
    }
   ],
   "source": [
    "# Training unbalanced dataset with LogisticRegression.\n",
    "\n",
    "model = LogisticRegression(random_state=12345, solver='liblinear')\n",
    "model.fit(features_train, target_train)\n",
    "predicted_valid = model.predict(features_valid)\n",
    "probabilities_valid = model.predict_proba(features_valid)\n",
    "probabilities_one_valid = probabilities_valid[:, 1]\n",
    "\n",
    "\n",
    "\n",
    "print(\"F1:\", f1_score(target_valid, predicted_valid))\n",
    "print('AUC:', roc_auc_score(target_valid, probabilities_one_valid))\n",
    "\n",
    "\n"
   ]
  },
  {
   "cell_type": "code",
   "execution_count": 18,
   "metadata": {},
   "outputs": [
    {
     "name": "stdout",
     "output_type": "stream",
     "text": [
      "max_depth = 1 F1: 0.0\n",
      "AUC: 0.7113795494601806\n",
      "\n",
      "max_depth = 2 F1: 0.5\n",
      "AUC: 0.7392373183346014\n",
      "\n",
      "max_depth = 3 F1: 0.35\n",
      "AUC: 0.8055602373087035\n",
      "\n",
      "max_depth = 4 F1: 0.37\n",
      "AUC: 0.8288480800531633\n",
      "\n",
      "max_depth = 5 F1: 0.53\n",
      "AUC: 0.8372403232175362\n",
      "\n",
      "max_depth = 6 F1: 0.5\n",
      "AUC: 0.835225029133881\n",
      "\n",
      "max_depth = 7 F1: 0.54\n",
      "AUC: 0.8365986555075076\n",
      "\n",
      "max_depth = 8 F1: 0.55\n",
      "AUC: 0.8273865704847297\n",
      "\n",
      "max_depth = 9 F1: 0.53\n",
      "AUC: 0.8091502056225983\n",
      "\n",
      "max_depth = 10 F1: 0.52\n",
      "AUC: 0.7885590526913926\n",
      "\n",
      "max_depth = 11 F1: 0.52\n",
      "AUC: 0.7539764135951691\n",
      "\n",
      "max_depth = 12 F1: 0.51\n",
      "AUC: 0.7394166963623581\n",
      "\n",
      "max_depth = 13 F1: 0.49\n",
      "AUC: 0.7188375822249617\n",
      "\n",
      "max_depth = 14 F1: 0.47\n",
      "AUC: 0.688913956332887\n",
      "\n",
      "max_depth = 15 F1: 0.49\n",
      "AUC: 0.681891727903998\n",
      "\n",
      "max_depth = 16 F1: 0.47\n",
      "AUC: 0.6685744141922932\n",
      "\n",
      "max_depth = 17 F1: 0.47\n",
      "AUC: 0.6675366701659426\n",
      "\n",
      "max_depth = 18 F1: 0.47\n",
      "AUC: 0.6691799655208945\n",
      "\n",
      "max_depth = 19 F1: 0.47\n",
      "AUC: 0.6713818609085919\n",
      "\n"
     ]
    }
   ],
   "source": [
    "# Training unbalanced dataset with Decision Tree and tuning hyperparameters\n",
    "\n",
    "for depth in range(1, 20):\n",
    "    model = DecisionTreeClassifier(max_depth=depth,random_state=12345) # < create a model, specify max_depth=depth >\n",
    "\n",
    "        # < train the model >\n",
    "    model.fit(features_train,target_train)\n",
    "    predictions_valid = model.predict(features_valid) # < find the predictions using validation set >\n",
    "    predicted_valid = model.predict(features_valid)\n",
    "    probabilities_valid = model.predict_proba(features_valid)\n",
    "    probabilities_one_valid = probabilities_valid[:, 1]\n",
    "    \n",
    "    print(\"max_depth =\", depth, \"\", end='')\n",
    "    print('F1:',round(f1_score(target_valid, predictions_valid),2))\n",
    "    print('AUC:', roc_auc_score(target_valid, probabilities_one_valid))\n",
    "    print()\n",
    "\n",
    "    "
   ]
  },
  {
   "cell_type": "code",
   "execution_count": 19,
   "metadata": {},
   "outputs": [
    {
     "name": "stdout",
     "output_type": "stream",
     "text": [
      "F1 score of the best model on the validation set (n_estimators = 21, max_depth = 15): 0.5882352941176471\n"
     ]
    }
   ],
   "source": [
    "# Training unbalanced dataset with Random Forest and tuning hyperparameters\n",
    "\n",
    "best_score = 0\n",
    "best_est = 0\n",
    "best_depth = 0\n",
    "for est in range(1, 50):\n",
    "    for depth in range(1,50):\n",
    "# choose hyperparameter range\n",
    "        model = RandomForestClassifier(random_state=12345, n_estimators=est,max_depth=depth ) # set number of trees\n",
    "        model.fit(features_train,target_train) # train model on training set\n",
    "        predictions_valid = model.predict(features_valid)\n",
    "   \n",
    "    \n",
    "        score_f1 = f1_score(target_valid,predictions_valid)\n",
    "        if score_f1 > best_score:\n",
    "            best_score = score_f1# save best accuracy score on validation set\n",
    "            best_est = est# save number of estimators corresponding to best accuracy score\n",
    "            best_depth = depth\n",
    "        \n",
    "    \n",
    "        \n",
    "\n",
    "\n",
    "print(\"F1 score of the best model on the validation set (n_estimators = {}, max_depth = {}): {}\".format(best_est, best_depth,best_score))\n"
   ]
  },
  {
   "cell_type": "markdown",
   "metadata": {},
   "source": [
    "The Random Forest model yielded the highest f1 score (0.58) after tuning the hyperparameters on the unbalanced dataset. This f1 score is close to our target f1 score of 0.59, therefore the Random Forest Model will be used for the subsequent class imbalance corrections."
   ]
  },
  {
   "cell_type": "markdown",
   "metadata": {},
   "source": [
    "### Class Imbalance Correction and Hyper Parameter Tuning\n",
    "In this section we will try to correct class imbalance using the following methods:\n",
    "\n",
    "- Class Weight Adjustment;\n",
    "- Upsampling;\n",
    "- Downsampling.\n",
    "\n"
   ]
  },
  {
   "cell_type": "markdown",
   "metadata": {},
   "source": [
    "#### Class Weight Adjustment"
   ]
  },
  {
   "cell_type": "code",
   "execution_count": 20,
   "metadata": {},
   "outputs": [
    {
     "data": {
      "text/plain": [
       "0.5683060109289617"
      ]
     },
     "execution_count": 20,
     "metadata": {},
     "output_type": "execute_result"
    }
   ],
   "source": [
    "# Random Forest\n",
    "balanced_forest_model = RandomForestClassifier(random_state=12345, n_estimators=21,max_depth=15,class_weight='balanced')\n",
    "balanced_forest_model.fit(features_train,target_train)\n",
    "forest_predicts = balanced_forest_model.predict(features_valid)\n",
    "f1_score(target_valid,forest_predicts)\n"
   ]
  },
  {
   "cell_type": "markdown",
   "metadata": {},
   "source": [
    "#### Upsampling"
   ]
  },
  {
   "cell_type": "code",
   "execution_count": 21,
   "metadata": {},
   "outputs": [],
   "source": [
    "# Upsampling function\n",
    "\n",
    "def upsample(features, target, repeat):\n",
    "    features_zeros = features[target == 0]\n",
    "    features_ones = features[target == 1]\n",
    "    target_zeros = target[target == 0]\n",
    "    target_ones = target[target == 1]\n",
    "\n",
    "    features_upsampled = pd.concat([features_zeros] + [features_ones] * repeat)\n",
    "    target_upsampled = pd.concat([target_zeros] + [target_ones] * repeat)\n",
    "\n",
    "    features_upsampled, target_upsampled = shuffle(\n",
    "        features_upsampled, target_upsampled, random_state=12345\n",
    "    )\n",
    "\n",
    "    return features_upsampled, target_upsampled\n",
    "\n",
    "\n",
    "features_upsampled, target_upsampled = upsample(\n",
    "    features_train, target_train, 10\n",
    ")\n",
    "\n",
    "features_train_upsampled, target_train_upsampled = upsample(features_train, target_train, 10)\n",
    "\n"
   ]
  },
  {
   "cell_type": "code",
   "execution_count": 22,
   "metadata": {
    "scrolled": true
   },
   "outputs": [
    {
     "data": {
      "text/plain": [
       "0.6002844950213372"
      ]
     },
     "execution_count": 22,
     "metadata": {},
     "output_type": "execute_result"
    }
   ],
   "source": [
    "# Random Forest tuning hyper parameters \n",
    "\n",
    "upsampled_forest_model = RandomForestClassifier(random_state=12345, n_estimators=21,max_depth=15)\n",
    "upsampled_forest_model.fit(features_train_upsampled,target_train_upsampled)\n",
    "rfc_predicts = upsampled_forest_model.predict(features_valid)\n",
    "f1_score(target_valid,rfc_predicts)"
   ]
  },
  {
   "cell_type": "markdown",
   "metadata": {},
   "source": [
    "Upsampling allows us to reach our target f1 score."
   ]
  },
  {
   "cell_type": "markdown",
   "metadata": {},
   "source": [
    "#### Downsampling"
   ]
  },
  {
   "cell_type": "code",
   "execution_count": 23,
   "metadata": {},
   "outputs": [],
   "source": [
    "# downsampling function\n",
    "\n",
    "def downsample(features, target, fraction):\n",
    "    features_zeros = features[target == 0]\n",
    "    features_ones = features[target == 1]\n",
    "    target_zeros = target[target == 0]\n",
    "    target_ones = target[target == 1]\n",
    "\n",
    "    features_downsampled = pd.concat(\n",
    "        [features_zeros.sample(frac=fraction, random_state=12345)]\n",
    "        + [features_ones]\n",
    "    )\n",
    "    target_downsampled = pd.concat(\n",
    "        [target_zeros.sample(frac=fraction, random_state=12345)]\n",
    "        + [target_ones]\n",
    "    )\n",
    "\n",
    "    features_downsampled, target_downsampled = shuffle(\n",
    "        features_downsampled, target_downsampled, random_state=12345\n",
    "    )\n",
    "\n",
    "    return features_downsampled, target_downsampled\n",
    "\n",
    "\n",
    "features_downsampled, target_downsampled = downsample(\n",
    "    features_train, target_train, 0.1\n",
    ")\n",
    "\n",
    "features_train_downsampled, target_train_downsampled = downsample(features_train, target_train, 0.1)\n"
   ]
  },
  {
   "cell_type": "code",
   "execution_count": 30,
   "metadata": {},
   "outputs": [
    {
     "name": "stdout",
     "output_type": "stream",
     "text": [
      "F1 Score: 0.46223564954682783\n"
     ]
    }
   ],
   "source": [
    "# Random Forest\n",
    "\n",
    "downsampled_forest_model = RandomForestClassifier(random_state=12345, n_estimators=21,max_depth=15)\n",
    "downsampled_forest_model.fit(features_train_downsampled,target_train_downsampled)\n",
    "down_predicts = downsampled_forest_model.predict(features_valid)\n",
    "print('F1 Score:',f1_score(target_valid,down_predicts))\n"
   ]
  },
  {
   "cell_type": "markdown",
   "metadata": {},
   "source": [
    "### Final Model Testing"
   ]
  },
  {
   "cell_type": "markdown",
   "metadata": {},
   "source": [
    "The upsampled random forest model yielded the highest f1 score and will be used in final model testing on the test set."
   ]
  },
  {
   "cell_type": "code",
   "execution_count": 28,
   "metadata": {},
   "outputs": [
    {
     "name": "stdout",
     "output_type": "stream",
     "text": [
      "F1 Score: 0.5988439306358381\n"
     ]
    }
   ],
   "source": [
    "# Final model testing\n",
    "\n",
    "upsampled_forest_model = RandomForestClassifier(random_state=12345, n_estimators=21,max_depth=15)\n",
    "upsampled_forest_model.fit(features_train_upsampled,target_train_upsampled)\n",
    "test_predicts = upsampled_forest_model.predict(features_test)\n",
    "print('F1 Score:',f1_score(target_test,test_predicts))"
   ]
  },
  {
   "cell_type": "markdown",
   "metadata": {},
   "source": [
    "### AUC-ROC metric"
   ]
  },
  {
   "cell_type": "code",
   "execution_count": 26,
   "metadata": {},
   "outputs": [
    {
     "data": {
      "text/plain": [
       "0.8419104775036977"
      ]
     },
     "execution_count": 26,
     "metadata": {},
     "output_type": "execute_result"
    }
   ],
   "source": [
    "# Compare final_model AUC-ROC score to F1 score\n",
    "\n",
    "probabilities_test = upsampled_forest_model.predict_proba(features_test)\n",
    "probabilities_one_test = probabilities_test[:, 1]\n",
    "auc_roc = roc_auc_score(target_test, probabilities_one_test)\n",
    "auc_roc"
   ]
  },
  {
   "cell_type": "code",
   "execution_count": 27,
   "metadata": {},
   "outputs": [
    {
     "data": {
      "image/png": "[encoded data removed]",
      "text/plain": [
       "<Figure size 432x288 with 1 Axes>"
      ]
     },
     "metadata": {
      "needs_background": "light"
     },
     "output_type": "display_data"
    }
   ],
   "source": [
    "# Plot ROC-Curve\n",
    "\n",
    "fpr, tpr, thresholds = roc_curve(target_test, probabilities_one_test) \n",
    "plt.figure()\n",
    "plt.plot(fpr, tpr)\n",
    "# ROC curve for random model (looks like a straight line)\n",
    "plt.plot([0, 1], [0, 1], linestyle='--')\n",
    "plt.xlabel('False Positive Rate')\n",
    "plt.ylabel('True Positive Rate')\n",
    "plt.ylim([0.0, 1.0])\n",
    "plt.xlim([0.0, 1.0])\n",
    "plt.title('ROC curve')\n",
    "plt.show()\n"
   ]
  },
  {
   "cell_type": "markdown",
   "metadata": {},
   "source": [
    "We put the false positive rate values (FPR) along the horizontal axis, and true positive rate values (TPR) along the vertical axis. Then we iterate over the logistic regression threshold values and plot a curve. It is called the ROC curve (Receiver Operating Characteristic — a term from signal processing theory). The higher the curve, the greater the TPR value and the better the model's quality."
   ]
  },
  {
   "cell_type": "markdown",
   "metadata": {},
   "source": [
    "## Conclusion"
   ]
  },
  {
   "cell_type": "markdown",
   "metadata": {},
   "source": [
    "In this project I developed a binary classification model that analyzes data on clients’ past behavior and termination of contracts with the bank and predicts whether a customer will leave the bank soon.\n",
    "\n"
   ]
  }
 ],
 "metadata": {
  "ExecuteTimeLog": [
   {
    "duration": 43,
    "start_time": "2022-04-29T22:40:15.758Z"
   },
   {
    "duration": 391,
    "start_time": "2022-04-29T22:40:18.764Z"
   },
   {
    "duration": 213,
    "start_time": "2022-04-29T22:40:19.919Z"
   },
   {
    "duration": 110,
    "start_time": "2022-04-29T22:41:29.165Z"
   },
   {
    "duration": 12,
    "start_time": "2022-04-29T22:46:34.725Z"
   },
   {
    "duration": 46,
    "start_time": "2022-04-29T22:47:53.443Z"
   },
   {
    "duration": 357,
    "start_time": "2022-04-29T22:47:55.628Z"
   },
   {
    "duration": 30,
    "start_time": "2022-04-29T22:47:56.999Z"
   },
   {
    "duration": 40,
    "start_time": "2022-04-29T22:48:53.305Z"
   },
   {
    "duration": 42,
    "start_time": "2022-04-29T22:49:04.101Z"
   },
   {
    "duration": 39,
    "start_time": "2022-04-29T22:49:39.172Z"
   },
   {
    "duration": 7,
    "start_time": "2022-04-29T22:49:58.238Z"
   },
   {
    "duration": 35,
    "start_time": "2022-04-29T22:50:02.492Z"
   },
   {
    "duration": 6,
    "start_time": "2022-04-29T22:52:19.649Z"
   },
   {
    "duration": 12,
    "start_time": "2022-04-29T22:52:24.688Z"
   },
   {
    "duration": 75,
    "start_time": "2022-04-30T22:26:18.339Z"
   },
   {
    "duration": 446,
    "start_time": "2022-04-30T22:26:22.159Z"
   },
   {
    "duration": 174,
    "start_time": "2022-04-30T22:26:23.840Z"
   },
   {
    "duration": 29,
    "start_time": "2022-04-30T22:26:25.966Z"
   },
   {
    "duration": 14,
    "start_time": "2022-04-30T22:26:31.593Z"
   },
   {
    "duration": 6,
    "start_time": "2022-04-30T22:26:46.582Z"
   },
   {
    "duration": 5,
    "start_time": "2022-04-30T22:26:52.267Z"
   },
   {
    "duration": 7,
    "start_time": "2022-04-30T22:27:06.124Z"
   },
   {
    "duration": 7,
    "start_time": "2022-04-30T22:28:04.223Z"
   },
   {
    "duration": 11,
    "start_time": "2022-04-30T22:28:10.725Z"
   },
   {
    "duration": 7,
    "start_time": "2022-04-30T22:28:24.903Z"
   },
   {
    "duration": 7,
    "start_time": "2022-04-30T22:28:57.594Z"
   },
   {
    "duration": 21,
    "start_time": "2022-05-01T01:32:44.477Z"
   },
   {
    "duration": 702,
    "start_time": "2022-05-01T07:19:49.251Z"
   },
   {
    "duration": 66,
    "start_time": "2022-05-01T07:19:49.957Z"
   },
   {
    "duration": 181,
    "start_time": "2022-05-01T07:19:50.026Z"
   },
   {
    "duration": 0,
    "start_time": "2022-05-01T07:19:50.210Z"
   },
   {
    "duration": 0,
    "start_time": "2022-05-01T07:19:50.212Z"
   },
   {
    "duration": 17,
    "start_time": "2022-05-01T07:27:33.374Z"
   },
   {
    "duration": 28,
    "start_time": "2022-05-01T07:27:37.407Z"
   },
   {
    "duration": 82,
    "start_time": "2022-05-07T20:36:46.431Z"
   },
   {
    "duration": 527,
    "start_time": "2022-05-07T20:36:50.434Z"
   },
   {
    "duration": 52,
    "start_time": "2022-05-07T20:36:50.964Z"
   },
   {
    "duration": 82,
    "start_time": "2022-05-07T20:36:51.019Z"
   },
   {
    "duration": 14,
    "start_time": "2022-05-07T20:36:51.104Z"
   },
   {
    "duration": 31,
    "start_time": "2022-05-07T20:36:51.122Z"
   },
   {
    "duration": 7,
    "start_time": "2022-05-07T20:36:51.184Z"
   },
   {
    "duration": 23,
    "start_time": "2022-05-07T20:38:20.865Z"
   },
   {
    "duration": 75,
    "start_time": "2022-05-07T20:44:09.230Z"
   },
   {
    "duration": 10,
    "start_time": "2022-05-07T20:45:04.798Z"
   },
   {
    "duration": 9,
    "start_time": "2022-05-07T20:45:15.610Z"
   },
   {
    "duration": 24,
    "start_time": "2022-05-07T20:45:18.498Z"
   },
   {
    "duration": 32,
    "start_time": "2022-05-07T20:45:45.044Z"
   },
   {
    "duration": 20,
    "start_time": "2022-05-07T20:45:52.655Z"
   },
   {
    "duration": 19,
    "start_time": "2022-05-07T20:46:10.043Z"
   },
   {
    "duration": 13,
    "start_time": "2022-05-07T20:51:34.646Z"
   },
   {
    "duration": 9,
    "start_time": "2022-05-07T20:51:38.699Z"
   },
   {
    "duration": 8,
    "start_time": "2022-05-07T20:52:59.709Z"
   },
   {
    "duration": 13,
    "start_time": "2022-05-07T20:53:24.893Z"
   },
   {
    "duration": 28,
    "start_time": "2022-05-07T20:53:29.632Z"
   },
   {
    "duration": 9,
    "start_time": "2022-05-07T21:07:38.706Z"
   },
   {
    "duration": 14,
    "start_time": "2022-05-07T21:13:06.619Z"
   },
   {
    "duration": 1198,
    "start_time": "2022-05-07T21:13:28.680Z"
   },
   {
    "duration": 13,
    "start_time": "2022-05-07T21:13:30.832Z"
   },
   {
    "duration": 17,
    "start_time": "2022-05-07T21:13:46.475Z"
   },
   {
    "duration": 6,
    "start_time": "2022-05-07T21:16:07.128Z"
   },
   {
    "duration": 746,
    "start_time": "2022-05-07T21:19:25.939Z"
   },
   {
    "duration": 76,
    "start_time": "2022-05-07T21:19:40.499Z"
   },
   {
    "duration": 263,
    "start_time": "2022-05-07T21:19:51.399Z"
   },
   {
    "duration": 13,
    "start_time": "2022-05-07T21:28:20.043Z"
   },
   {
    "duration": 5,
    "start_time": "2022-05-07T21:28:36.501Z"
   },
   {
    "duration": 19,
    "start_time": "2022-05-07T21:28:38.530Z"
   },
   {
    "duration": 14,
    "start_time": "2022-05-07T21:34:02.310Z"
   },
   {
    "duration": 33,
    "start_time": "2022-05-07T21:35:10.831Z"
   },
   {
    "duration": 192,
    "start_time": "2022-05-07T21:35:13.196Z"
   },
   {
    "duration": 58,
    "start_time": "2022-05-07T21:43:45.531Z"
   },
   {
    "duration": 99,
    "start_time": "2022-05-07T21:45:13.787Z"
   },
   {
    "duration": 107,
    "start_time": "2022-05-07T21:57:09.300Z"
   },
   {
    "duration": 158,
    "start_time": "2022-05-07T21:57:27.325Z"
   },
   {
    "duration": 18,
    "start_time": "2022-05-07T22:00:30.826Z"
   },
   {
    "duration": 110,
    "start_time": "2022-05-07T22:01:41.882Z"
   },
   {
    "duration": 145,
    "start_time": "2022-05-07T22:04:02.744Z"
   },
   {
    "duration": 181,
    "start_time": "2022-05-07T22:04:43.605Z"
   },
   {
    "duration": 37,
    "start_time": "2022-05-07T22:18:44.196Z"
   },
   {
    "duration": 6,
    "start_time": "2022-05-07T22:19:21.772Z"
   },
   {
    "duration": 206,
    "start_time": "2022-05-07T22:19:25.386Z"
   },
   {
    "duration": 84,
    "start_time": "2022-05-07T22:19:45.215Z"
   },
   {
    "duration": 13,
    "start_time": "2022-05-07T22:27:10.378Z"
   },
   {
    "duration": 31,
    "start_time": "2022-05-07T22:27:24.252Z"
   },
   {
    "duration": 22,
    "start_time": "2022-05-07T22:27:26.195Z"
   },
   {
    "duration": 6,
    "start_time": "2022-05-07T22:27:53.470Z"
   },
   {
    "duration": 3832,
    "start_time": "2022-05-07T22:27:55.811Z"
   },
   {
    "duration": 3308,
    "start_time": "2022-05-07T22:28:25.314Z"
   },
   {
    "duration": 20,
    "start_time": "2022-05-07T22:29:16.890Z"
   },
   {
    "duration": 1994,
    "start_time": "2022-05-07T22:48:37.139Z"
   },
   {
    "duration": 48,
    "start_time": "2022-05-07T22:48:39.136Z"
   },
   {
    "duration": 26,
    "start_time": "2022-05-07T22:48:39.187Z"
   },
   {
    "duration": 88,
    "start_time": "2022-05-07T22:48:39.215Z"
   },
   {
    "duration": 10,
    "start_time": "2022-05-07T22:48:39.306Z"
   },
   {
    "duration": 20,
    "start_time": "2022-05-07T22:48:39.318Z"
   },
   {
    "duration": 6,
    "start_time": "2022-05-07T22:48:39.340Z"
   },
   {
    "duration": 47,
    "start_time": "2022-05-07T22:48:39.348Z"
   },
   {
    "duration": 10,
    "start_time": "2022-05-07T22:48:39.397Z"
   },
   {
    "duration": 28,
    "start_time": "2022-05-07T22:48:39.409Z"
   },
   {
    "duration": 227,
    "start_time": "2022-05-07T22:48:39.439Z"
   },
   {
    "duration": 20,
    "start_time": "2022-05-07T22:48:39.668Z"
   },
   {
    "duration": 17,
    "start_time": "2022-05-07T22:48:39.694Z"
   },
   {
    "duration": 16,
    "start_time": "2022-05-07T22:48:39.715Z"
   },
   {
    "duration": 153,
    "start_time": "2022-05-07T22:48:39.734Z"
   },
   {
    "duration": 189,
    "start_time": "2022-05-07T22:48:39.895Z"
   },
   {
    "duration": 212,
    "start_time": "2022-05-07T22:48:40.086Z"
   },
   {
    "duration": 396,
    "start_time": "2022-05-07T22:48:40.301Z"
   },
   {
    "duration": 204,
    "start_time": "2022-05-07T22:48:40.700Z"
   },
   {
    "duration": 3611,
    "start_time": "2022-05-07T22:48:40.982Z"
   },
   {
    "duration": 95,
    "start_time": "2022-05-07T22:48:44.596Z"
   },
   {
    "duration": 302400,
    "start_time": "2022-05-07T22:48:57.563Z"
   },
   {
    "duration": 285565,
    "start_time": "2022-05-07T23:00:46.932Z"
   },
   {
    "duration": 109,
    "start_time": "2022-05-08T00:24:13.274Z"
   },
   {
    "duration": 23,
    "start_time": "2022-05-08T00:25:40.433Z"
   },
   {
    "duration": 21,
    "start_time": "2022-05-08T00:28:32.302Z"
   },
   {
    "duration": 31,
    "start_time": "2022-05-08T00:35:42.810Z"
   },
   {
    "duration": 48,
    "start_time": "2022-05-08T00:35:50.835Z"
   },
   {
    "duration": 20,
    "start_time": "2022-05-08T00:41:21.931Z"
   },
   {
    "duration": 84,
    "start_time": "2022-05-08T00:41:37.329Z"
   },
   {
    "duration": 113,
    "start_time": "2022-05-08T00:42:15.270Z"
   },
   {
    "duration": 96,
    "start_time": "2022-05-08T00:43:25.185Z"
   },
   {
    "duration": 182,
    "start_time": "2022-05-08T00:45:10.311Z"
   },
   {
    "duration": 29,
    "start_time": "2022-05-08T00:45:26.391Z"
   },
   {
    "duration": 95,
    "start_time": "2022-05-08T00:46:43.188Z"
   },
   {
    "duration": 89,
    "start_time": "2022-05-08T00:47:34.949Z"
   },
   {
    "duration": 33,
    "start_time": "2022-05-08T00:48:07.327Z"
   },
   {
    "duration": 142,
    "start_time": "2022-05-08T00:55:35.439Z"
   },
   {
    "duration": 41,
    "start_time": "2022-05-08T00:55:42.641Z"
   },
   {
    "duration": 37,
    "start_time": "2022-05-08T00:59:19.460Z"
   },
   {
    "duration": 133,
    "start_time": "2022-05-08T01:04:35.351Z"
   },
   {
    "duration": 35,
    "start_time": "2022-05-08T01:05:12.348Z"
   },
   {
    "duration": 41,
    "start_time": "2022-05-08T01:06:43.683Z"
   },
   {
    "duration": 241,
    "start_time": "2022-05-08T01:15:52.545Z"
   },
   {
    "duration": 240,
    "start_time": "2022-05-08T01:16:00.923Z"
   },
   {
    "duration": 44,
    "start_time": "2022-05-08T01:17:54.801Z"
   },
   {
    "duration": 43,
    "start_time": "2022-05-08T01:18:07.882Z"
   },
   {
    "duration": 41,
    "start_time": "2022-05-08T01:18:12.830Z"
   },
   {
    "duration": 64,
    "start_time": "2022-05-08T01:19:01.607Z"
   },
   {
    "duration": 34,
    "start_time": "2022-05-08T01:22:09.564Z"
   },
   {
    "duration": 33,
    "start_time": "2022-05-08T01:23:18.360Z"
   },
   {
    "duration": 35,
    "start_time": "2022-05-08T01:23:32.740Z"
   },
   {
    "duration": 12748,
    "start_time": "2022-05-08T01:35:02.381Z"
   },
   {
    "duration": 517,
    "start_time": "2022-05-08T01:38:18.566Z"
   },
   {
    "duration": 500,
    "start_time": "2022-05-08T01:38:34.043Z"
   },
   {
    "duration": 411,
    "start_time": "2022-05-08T01:38:43.491Z"
   },
   {
    "duration": 1985,
    "start_time": "2022-05-08T01:42:16.867Z"
   },
   {
    "duration": 49,
    "start_time": "2022-05-08T01:42:18.855Z"
   },
   {
    "duration": 24,
    "start_time": "2022-05-08T01:42:18.906Z"
   },
   {
    "duration": 78,
    "start_time": "2022-05-08T01:42:18.933Z"
   },
   {
    "duration": 10,
    "start_time": "2022-05-08T01:42:19.014Z"
   },
   {
    "duration": 21,
    "start_time": "2022-05-08T01:42:19.026Z"
   },
   {
    "duration": 33,
    "start_time": "2022-05-08T01:42:19.049Z"
   },
   {
    "duration": 9,
    "start_time": "2022-05-08T01:42:19.084Z"
   },
   {
    "duration": 8,
    "start_time": "2022-05-08T01:42:19.095Z"
   },
   {
    "duration": 26,
    "start_time": "2022-05-08T01:42:19.105Z"
   },
   {
    "duration": 223,
    "start_time": "2022-05-08T01:42:19.133Z"
   },
   {
    "duration": 8,
    "start_time": "2022-05-08T01:42:19.358Z"
   },
   {
    "duration": 25,
    "start_time": "2022-05-08T01:42:19.368Z"
   },
   {
    "duration": 31,
    "start_time": "2022-05-08T01:42:19.397Z"
   },
   {
    "duration": 68,
    "start_time": "2022-05-08T01:42:19.430Z"
   },
   {
    "duration": 202,
    "start_time": "2022-05-08T01:42:19.583Z"
   },
   {
    "duration": 345,
    "start_time": "2022-05-08T01:42:19.788Z"
   },
   {
    "duration": 12799,
    "start_time": "2022-05-08T01:42:20.135Z"
   },
   {
    "duration": 561,
    "start_time": "2022-05-08T01:42:32.936Z"
   },
   {
    "duration": 0,
    "start_time": "2022-05-08T01:42:33.499Z"
   },
   {
    "duration": 0,
    "start_time": "2022-05-08T01:42:33.501Z"
   },
   {
    "duration": 400,
    "start_time": "2022-05-08T01:42:44.663Z"
   },
   {
    "duration": 50709,
    "start_time": "2022-05-08T01:43:15.053Z"
   },
   {
    "duration": 50814,
    "start_time": "2022-05-08T01:48:10.749Z"
   },
   {
    "duration": 12976,
    "start_time": "2022-05-08T01:49:26.675Z"
   },
   {
    "duration": 12861,
    "start_time": "2022-05-08T01:50:59.456Z"
   },
   {
    "duration": 51215,
    "start_time": "2022-05-08T01:51:35.367Z"
   },
   {
    "duration": 31,
    "start_time": "2022-05-08T01:53:45.349Z"
   },
   {
    "duration": 4,
    "start_time": "2022-05-08T01:55:45.563Z"
   },
   {
    "duration": 13,
    "start_time": "2022-05-08T01:55:58.668Z"
   },
   {
    "duration": 34,
    "start_time": "2022-05-08T01:56:05.343Z"
   },
   {
    "duration": 110,
    "start_time": "2022-05-08T01:56:06.881Z"
   },
   {
    "duration": 116883,
    "start_time": "2022-05-08T01:58:20.965Z"
   },
   {
    "duration": 116269,
    "start_time": "2022-05-08T02:03:32.748Z"
   },
   {
    "duration": 98,
    "start_time": "2022-05-08T02:06:16.485Z"
   },
   {
    "duration": 1285,
    "start_time": "2022-05-08T02:07:26.067Z"
   },
   {
    "duration": 1272,
    "start_time": "2022-05-08T02:07:51.952Z"
   },
   {
    "duration": 14,
    "start_time": "2022-05-08T02:09:10.415Z"
   },
   {
    "duration": 27,
    "start_time": "2022-05-08T02:09:16.632Z"
   },
   {
    "duration": 20,
    "start_time": "2022-05-08T02:09:20.261Z"
   },
   {
    "duration": 5368,
    "start_time": "2022-05-08T02:10:04.991Z"
   },
   {
    "duration": 20143,
    "start_time": "2022-05-08T02:10:58.748Z"
   },
   {
    "duration": 51457,
    "start_time": "2022-05-08T02:12:54.737Z"
   },
   {
    "duration": 1502,
    "start_time": "2022-05-08T02:17:52.773Z"
   },
   {
    "duration": 1520,
    "start_time": "2022-05-08T02:18:56.706Z"
   },
   {
    "duration": 86,
    "start_time": "2022-05-08T02:20:45.499Z"
   },
   {
    "duration": 270,
    "start_time": "2022-05-08T02:21:07.656Z"
   },
   {
    "duration": 262,
    "start_time": "2022-05-08T02:21:22.099Z"
   },
   {
    "duration": 268,
    "start_time": "2022-05-08T02:22:22.748Z"
   },
   {
    "duration": 261,
    "start_time": "2022-05-08T02:22:32.972Z"
   },
   {
    "duration": 414,
    "start_time": "2022-05-08T02:23:34.093Z"
   },
   {
    "duration": 401,
    "start_time": "2022-05-08T02:23:41.151Z"
   },
   {
    "duration": 1287,
    "start_time": "2022-05-08T02:24:14.816Z"
   },
   {
    "duration": 1325,
    "start_time": "2022-05-08T02:24:38.824Z"
   },
   {
    "duration": 1327,
    "start_time": "2022-05-08T02:24:52.460Z"
   },
   {
    "duration": 1531,
    "start_time": "2022-05-08T02:31:31.726Z"
   },
   {
    "duration": 1521,
    "start_time": "2022-05-08T02:31:48.927Z"
   },
   {
    "duration": 1541,
    "start_time": "2022-05-08T02:32:31.018Z"
   },
   {
    "duration": 1630,
    "start_time": "2022-05-08T02:35:13.684Z"
   },
   {
    "duration": 1493,
    "start_time": "2022-05-08T02:35:26.501Z"
   },
   {
    "duration": 1518,
    "start_time": "2022-05-08T02:35:40.744Z"
   },
   {
    "duration": 1281,
    "start_time": "2022-05-08T02:35:49.770Z"
   },
   {
    "duration": 248,
    "start_time": "2022-05-08T02:38:53.853Z"
   },
   {
    "duration": 1354,
    "start_time": "2022-05-08T02:39:19.154Z"
   },
   {
    "duration": 42,
    "start_time": "2022-05-08T02:40:30.464Z"
   },
   {
    "duration": 98,
    "start_time": "2022-05-08T02:40:34.183Z"
   },
   {
    "duration": 13,
    "start_time": "2022-05-08T03:11:14.537Z"
   },
   {
    "duration": 22,
    "start_time": "2022-05-08T03:11:22.292Z"
   },
   {
    "duration": 18,
    "start_time": "2022-05-08T03:11:37.282Z"
   },
   {
    "duration": 19,
    "start_time": "2022-05-08T03:11:45.099Z"
   },
   {
    "duration": 19,
    "start_time": "2022-05-08T03:13:08.448Z"
   },
   {
    "duration": 668,
    "start_time": "2022-05-08T03:13:24.816Z"
   },
   {
    "duration": 576,
    "start_time": "2022-05-08T03:13:28.330Z"
   },
   {
    "duration": 68,
    "start_time": "2022-05-08T18:06:35.355Z"
   },
   {
    "duration": 9,
    "start_time": "2022-05-08T18:06:39.381Z"
   },
   {
    "duration": 2153,
    "start_time": "2022-05-08T18:06:49.129Z"
   },
   {
    "duration": 44,
    "start_time": "2022-05-08T18:06:51.285Z"
   },
   {
    "duration": 38,
    "start_time": "2022-05-08T18:06:51.331Z"
   },
   {
    "duration": 56,
    "start_time": "2022-05-08T18:06:51.372Z"
   },
   {
    "duration": 26,
    "start_time": "2022-05-08T18:06:51.431Z"
   },
   {
    "duration": 23,
    "start_time": "2022-05-08T18:06:51.459Z"
   },
   {
    "duration": 6,
    "start_time": "2022-05-08T18:06:51.484Z"
   },
   {
    "duration": 19,
    "start_time": "2022-05-08T18:06:51.492Z"
   },
   {
    "duration": 113,
    "start_time": "2022-05-08T18:42:16.667Z"
   },
   {
    "duration": 13,
    "start_time": "2022-05-08T18:42:26.224Z"
   },
   {
    "duration": 2077,
    "start_time": "2022-05-08T18:42:40.391Z"
   },
   {
    "duration": 44,
    "start_time": "2022-05-08T18:42:42.472Z"
   },
   {
    "duration": 35,
    "start_time": "2022-05-08T18:42:42.518Z"
   },
   {
    "duration": 57,
    "start_time": "2022-05-08T18:42:42.555Z"
   },
   {
    "duration": 168,
    "start_time": "2022-05-08T18:43:44.528Z"
   },
   {
    "duration": 13,
    "start_time": "2022-05-08T18:43:53.178Z"
   },
   {
    "duration": 12,
    "start_time": "2022-05-08T18:44:06.730Z"
   },
   {
    "duration": 14,
    "start_time": "2022-05-08T18:46:39.351Z"
   },
   {
    "duration": 21,
    "start_time": "2022-05-08T18:46:46.226Z"
   },
   {
    "duration": 8,
    "start_time": "2022-05-08T18:46:48.071Z"
   },
   {
    "duration": 17,
    "start_time": "2022-05-08T18:46:49.474Z"
   },
   {
    "duration": 9,
    "start_time": "2022-05-08T18:46:50.964Z"
   },
   {
    "duration": 9,
    "start_time": "2022-05-08T18:46:53.324Z"
   },
   {
    "duration": 14,
    "start_time": "2022-05-08T18:47:49.735Z"
   },
   {
    "duration": 12,
    "start_time": "2022-05-08T18:48:14.548Z"
   },
   {
    "duration": 27,
    "start_time": "2022-05-08T18:49:23.694Z"
   },
   {
    "duration": 206,
    "start_time": "2022-05-08T19:16:06.071Z"
   },
   {
    "duration": 8,
    "start_time": "2022-05-08T20:19:27.686Z"
   },
   {
    "duration": 16,
    "start_time": "2022-05-08T20:19:29.063Z"
   },
   {
    "duration": 119,
    "start_time": "2022-05-08T20:39:40.242Z"
   },
   {
    "duration": 33,
    "start_time": "2022-05-08T20:39:43.769Z"
   },
   {
    "duration": 101,
    "start_time": "2022-05-08T20:39:46.882Z"
   },
   {
    "duration": 49,
    "start_time": "2022-05-08T22:35:31.406Z"
   },
   {
    "duration": 125,
    "start_time": "2022-05-08T22:37:05.628Z"
   },
   {
    "duration": 6,
    "start_time": "2022-05-08T22:39:18.082Z"
   },
   {
    "duration": 338,
    "start_time": "2022-05-08T22:39:26.008Z"
   },
   {
    "duration": 190,
    "start_time": "2022-05-08T22:41:16.595Z"
   },
   {
    "duration": 119,
    "start_time": "2022-05-08T22:44:21.035Z"
   },
   {
    "duration": 458,
    "start_time": "2022-05-08T22:45:20.580Z"
   },
   {
    "duration": 465,
    "start_time": "2022-05-08T22:45:32.164Z"
   },
   {
    "duration": 466,
    "start_time": "2022-05-08T22:45:41.396Z"
   },
   {
    "duration": 53462,
    "start_time": "2022-05-08T22:48:34.839Z"
   },
   {
    "duration": 52454,
    "start_time": "2022-05-08T22:49:44.492Z"
   },
   {
    "duration": 35,
    "start_time": "2022-05-08T22:51:03.902Z"
   },
   {
    "duration": 162,
    "start_time": "2022-05-08T22:52:00.393Z"
   },
   {
    "duration": 1316,
    "start_time": "2022-05-08T22:52:53.278Z"
   },
   {
    "duration": 116709,
    "start_time": "2022-05-08T22:54:31.784Z"
   },
   {
    "duration": 27,
    "start_time": "2022-05-08T22:57:43.249Z"
   },
   {
    "duration": 2174,
    "start_time": "2022-05-08T23:00:21.212Z"
   },
   {
    "duration": 2136,
    "start_time": "2022-05-08T23:00:40.508Z"
   },
   {
    "duration": 3274,
    "start_time": "2022-05-08T23:01:14.381Z"
   },
   {
    "duration": 31,
    "start_time": "2022-05-08T23:01:49.563Z"
   },
   {
    "duration": 2236,
    "start_time": "2022-05-08T23:01:52.621Z"
   },
   {
    "duration": 39,
    "start_time": "2022-05-08T23:02:46.019Z"
   },
   {
    "duration": 2199,
    "start_time": "2022-05-08T23:02:53.532Z"
   },
   {
    "duration": 49409,
    "start_time": "2022-05-08T23:04:27.599Z"
   },
   {
    "duration": 111429,
    "start_time": "2022-05-08T23:05:26.047Z"
   },
   {
    "duration": 1426,
    "start_time": "2022-05-08T23:07:48.373Z"
   },
   {
    "duration": 33,
    "start_time": "2022-05-08T23:08:31.037Z"
   },
   {
    "duration": 1490,
    "start_time": "2022-05-08T23:08:37.164Z"
   },
   {
    "duration": 38,
    "start_time": "2022-05-08T23:10:39.706Z"
   },
   {
    "duration": 1412,
    "start_time": "2022-05-08T23:10:48.865Z"
   },
   {
    "duration": 1451,
    "start_time": "2022-05-08T23:11:47.620Z"
   },
   {
    "duration": 1421,
    "start_time": "2022-05-08T23:12:06.992Z"
   },
   {
    "duration": 116157,
    "start_time": "2022-05-08T23:14:44.595Z"
   },
   {
    "duration": 1464,
    "start_time": "2022-05-08T23:20:19.479Z"
   },
   {
    "duration": 1454,
    "start_time": "2022-05-08T23:21:05.965Z"
   },
   {
    "duration": 1412,
    "start_time": "2022-05-08T23:21:24.191Z"
   },
   {
    "duration": 50583,
    "start_time": "2022-05-08T23:23:01.369Z"
   },
   {
    "duration": 1473,
    "start_time": "2022-05-08T23:24:53.123Z"
   },
   {
    "duration": 112235,
    "start_time": "2022-05-08T23:25:14.277Z"
   },
   {
    "duration": 1748,
    "start_time": "2022-05-08T23:37:53.663Z"
   },
   {
    "duration": 50,
    "start_time": "2022-05-08T23:46:19.535Z"
   },
   {
    "duration": 1807,
    "start_time": "2022-05-08T23:48:11.869Z"
   },
   {
    "duration": 46,
    "start_time": "2022-05-08T23:48:13.679Z"
   },
   {
    "duration": 42,
    "start_time": "2022-05-08T23:48:13.727Z"
   },
   {
    "duration": 58,
    "start_time": "2022-05-08T23:48:13.772Z"
   },
   {
    "duration": 18,
    "start_time": "2022-05-08T23:48:13.854Z"
   },
   {
    "duration": 11,
    "start_time": "2022-05-08T23:48:13.874Z"
   },
   {
    "duration": 20,
    "start_time": "2022-05-08T23:48:13.888Z"
   },
   {
    "duration": 44,
    "start_time": "2022-05-08T23:48:13.911Z"
   },
   {
    "duration": 27,
    "start_time": "2022-05-08T23:48:13.958Z"
   },
   {
    "duration": 11,
    "start_time": "2022-05-08T23:48:13.987Z"
   },
   {
    "duration": 11,
    "start_time": "2022-05-08T23:48:14.001Z"
   },
   {
    "duration": 59,
    "start_time": "2022-05-08T23:48:14.014Z"
   },
   {
    "duration": 194,
    "start_time": "2022-05-08T23:48:14.075Z"
   },
   {
    "duration": 7,
    "start_time": "2022-05-08T23:48:14.273Z"
   },
   {
    "duration": 17,
    "start_time": "2022-05-08T23:48:14.282Z"
   },
   {
    "duration": 59,
    "start_time": "2022-05-08T23:48:14.301Z"
   },
   {
    "duration": 190,
    "start_time": "2022-05-08T23:48:14.362Z"
   },
   {
    "duration": 279,
    "start_time": "2022-05-08T23:48:14.555Z"
   },
   {
    "duration": 117,
    "start_time": "2022-05-08T23:48:14.836Z"
   },
   {
    "duration": 407,
    "start_time": "2022-05-08T23:48:14.956Z"
   },
   {
    "duration": 50061,
    "start_time": "2022-05-08T23:48:15.365Z"
   },
   {
    "duration": 53,
    "start_time": "2022-05-08T23:49:05.428Z"
   },
   {
    "duration": 172,
    "start_time": "2022-05-08T23:49:05.483Z"
   },
   {
    "duration": 1448,
    "start_time": "2022-05-08T23:49:05.659Z"
   },
   {
    "duration": 112370,
    "start_time": "2022-05-08T23:49:07.110Z"
   },
   {
    "duration": 1464,
    "start_time": "2022-05-08T23:50:59.482Z"
   },
   {
    "duration": 23,
    "start_time": "2022-05-08T23:51:00.952Z"
   },
   {
    "duration": 80,
    "start_time": "2022-05-08T23:51:00.977Z"
   },
   {
    "duration": 19467,
    "start_time": "2022-05-08T23:51:01.059Z"
   },
   {
    "duration": 1573,
    "start_time": "2022-05-08T23:51:20.528Z"
   },
   {
    "duration": 1443,
    "start_time": "2022-05-08T23:51:48.169Z"
   },
   {
    "duration": 2169,
    "start_time": "2022-05-08T23:52:25.383Z"
   },
   {
    "duration": 27874,
    "start_time": "2022-05-08T23:55:06.328Z"
   },
   {
    "duration": 689,
    "start_time": "2022-05-09T00:07:27.103Z"
   },
   {
    "duration": 29,
    "start_time": "2022-05-09T01:40:59.977Z"
   },
   {
    "duration": 171,
    "start_time": "2022-05-09T01:50:38.674Z"
   },
   {
    "duration": 81,
    "start_time": "2022-05-09T05:50:20.081Z"
   },
   {
    "duration": 75,
    "start_time": "2022-05-09T18:53:48.396Z"
   },
   {
    "duration": 1965,
    "start_time": "2022-05-09T18:53:55.310Z"
   },
   {
    "duration": 43,
    "start_time": "2022-05-09T18:53:57.277Z"
   },
   {
    "duration": 16,
    "start_time": "2022-05-09T18:53:57.321Z"
   },
   {
    "duration": 55,
    "start_time": "2022-05-09T18:53:57.339Z"
   },
   {
    "duration": 19,
    "start_time": "2022-05-09T18:53:57.396Z"
   },
   {
    "duration": 11,
    "start_time": "2022-05-09T18:53:57.417Z"
   },
   {
    "duration": 19,
    "start_time": "2022-05-09T18:53:57.431Z"
   },
   {
    "duration": 5,
    "start_time": "2022-05-09T18:53:57.452Z"
   },
   {
    "duration": 47,
    "start_time": "2022-05-09T18:53:57.459Z"
   },
   {
    "duration": 9,
    "start_time": "2022-05-09T18:53:57.507Z"
   },
   {
    "duration": 8,
    "start_time": "2022-05-09T18:53:57.517Z"
   },
   {
    "duration": 24,
    "start_time": "2022-05-09T18:53:57.527Z"
   },
   {
    "duration": 150,
    "start_time": "2022-05-09T18:53:57.553Z"
   },
   {
    "duration": 6,
    "start_time": "2022-05-09T18:53:57.710Z"
   },
   {
    "duration": 13,
    "start_time": "2022-05-09T18:53:57.718Z"
   },
   {
    "duration": 31,
    "start_time": "2022-05-09T18:53:57.733Z"
   },
   {
    "duration": 128,
    "start_time": "2022-05-09T18:53:57.766Z"
   },
   {
    "duration": 206,
    "start_time": "2022-05-09T18:53:57.896Z"
   },
   {
    "duration": 104,
    "start_time": "2022-05-09T18:53:58.105Z"
   },
   {
    "duration": 430,
    "start_time": "2022-05-09T18:53:58.211Z"
   },
   {
    "duration": 40839,
    "start_time": "2022-05-09T18:53:58.642Z"
   },
   {
    "duration": 46,
    "start_time": "2022-05-09T18:54:39.483Z"
   },
   {
    "duration": 178,
    "start_time": "2022-05-09T18:54:39.531Z"
   },
   {
    "duration": 1048,
    "start_time": "2022-05-09T18:54:39.712Z"
   },
   {
    "duration": 80419,
    "start_time": "2022-05-09T18:54:40.762Z"
   },
   {
    "duration": 1089,
    "start_time": "2022-05-09T18:56:01.183Z"
   },
   {
    "duration": 34,
    "start_time": "2022-05-09T18:56:02.274Z"
   },
   {
    "duration": 62,
    "start_time": "2022-05-09T18:56:02.310Z"
   },
   {
    "duration": 16209,
    "start_time": "2022-05-09T18:56:02.374Z"
   },
   {
    "duration": 513,
    "start_time": "2022-05-09T18:56:18.585Z"
   },
   {
    "duration": 27,
    "start_time": "2022-05-09T18:56:19.100Z"
   },
   {
    "duration": 179,
    "start_time": "2022-05-09T18:56:19.129Z"
   },
   {
    "duration": 2171,
    "start_time": "2022-05-09T18:57:00.279Z"
   },
   {
    "duration": 26899,
    "start_time": "2022-05-09T18:57:32.626Z"
   },
   {
    "duration": 612,
    "start_time": "2022-05-09T19:07:17.488Z"
   },
   {
    "duration": 33,
    "start_time": "2022-05-09T19:24:27.891Z"
   },
   {
    "duration": 18380,
    "start_time": "2022-05-09T19:24:32.269Z"
   },
   {
    "duration": 34,
    "start_time": "2022-05-09T19:36:56.218Z"
   },
   {
    "duration": 1727,
    "start_time": "2022-05-09T19:58:03.669Z"
   },
   {
    "duration": 51,
    "start_time": "2022-05-09T19:58:05.399Z"
   },
   {
    "duration": 23,
    "start_time": "2022-05-09T19:58:05.452Z"
   },
   {
    "duration": 63,
    "start_time": "2022-05-09T19:58:05.477Z"
   },
   {
    "duration": 16,
    "start_time": "2022-05-09T19:58:05.543Z"
   },
   {
    "duration": 12,
    "start_time": "2022-05-09T19:58:05.561Z"
   },
   {
    "duration": 21,
    "start_time": "2022-05-09T19:58:05.596Z"
   },
   {
    "duration": 5,
    "start_time": "2022-05-09T19:58:05.618Z"
   },
   {
    "duration": 31,
    "start_time": "2022-05-09T19:58:05.625Z"
   },
   {
    "duration": 18,
    "start_time": "2022-05-09T19:58:05.657Z"
   },
   {
    "duration": 9,
    "start_time": "2022-05-09T19:58:05.677Z"
   },
   {
    "duration": 31,
    "start_time": "2022-05-09T19:58:05.693Z"
   },
   {
    "duration": 141,
    "start_time": "2022-05-09T19:58:05.726Z"
   },
   {
    "duration": 6,
    "start_time": "2022-05-09T19:58:05.871Z"
   },
   {
    "duration": 23,
    "start_time": "2022-05-09T19:58:05.879Z"
   },
   {
    "duration": 53,
    "start_time": "2022-05-09T19:58:05.903Z"
   },
   {
    "duration": 70,
    "start_time": "2022-05-09T19:58:05.958Z"
   },
   {
    "duration": 139,
    "start_time": "2022-05-09T19:58:06.193Z"
   },
   {
    "duration": 78,
    "start_time": "2022-05-09T19:58:06.334Z"
   },
   {
    "duration": 411,
    "start_time": "2022-05-09T19:58:06.413Z"
   },
   {
    "duration": 41974,
    "start_time": "2022-05-09T19:58:06.826Z"
   },
   {
    "duration": 37,
    "start_time": "2022-05-09T19:58:48.801Z"
   },
   {
    "duration": 167,
    "start_time": "2022-05-09T19:58:48.840Z"
   },
   {
    "duration": 1262,
    "start_time": "2022-05-09T19:58:49.009Z"
   },
   {
    "duration": 22713,
    "start_time": "2022-05-09T19:58:50.273Z"
   },
   {
    "duration": 437,
    "start_time": "2022-05-09T19:59:12.996Z"
   },
   {
    "duration": 18,
    "start_time": "2022-05-09T19:59:13.435Z"
   },
   {
    "duration": 46,
    "start_time": "2022-05-09T19:59:13.455Z"
   },
   {
    "duration": 15048,
    "start_time": "2022-05-09T19:59:13.503Z"
   },
   {
    "duration": 1487,
    "start_time": "2022-05-09T19:59:28.554Z"
   },
   {
    "duration": 53,
    "start_time": "2022-05-09T19:59:30.043Z"
   },
   {
    "duration": 64,
    "start_time": "2022-05-09T19:59:30.100Z"
   },
   {
    "duration": 127,
    "start_time": "2022-05-09T19:59:30.165Z"
   },
   {
    "duration": 297859,
    "start_time": "2022-05-09T20:05:01.074Z"
   },
   {
    "duration": 68220,
    "start_time": "2022-05-09T20:14:32.459Z"
   },
   {
    "duration": 2438,
    "start_time": "2022-05-10T03:21:58.480Z"
   },
   {
    "duration": 111,
    "start_time": "2022-05-10T03:22:00.921Z"
   },
   {
    "duration": 24,
    "start_time": "2022-05-10T03:22:01.035Z"
   },
   {
    "duration": 79,
    "start_time": "2022-05-10T03:22:01.062Z"
   },
   {
    "duration": 16,
    "start_time": "2022-05-10T03:22:01.144Z"
   },
   {
    "duration": 17,
    "start_time": "2022-05-10T03:22:01.162Z"
   },
   {
    "duration": 44,
    "start_time": "2022-05-10T03:22:01.181Z"
   },
   {
    "duration": 6,
    "start_time": "2022-05-10T03:22:01.228Z"
   },
   {
    "duration": 23,
    "start_time": "2022-05-10T03:22:01.236Z"
   },
   {
    "duration": 14,
    "start_time": "2022-05-10T03:22:01.263Z"
   },
   {
    "duration": 21,
    "start_time": "2022-05-10T03:22:01.279Z"
   },
   {
    "duration": 47,
    "start_time": "2022-05-10T03:22:01.302Z"
   },
   {
    "duration": 212,
    "start_time": "2022-05-10T03:22:01.352Z"
   },
   {
    "duration": 8,
    "start_time": "2022-05-10T03:22:01.566Z"
   },
   {
    "duration": 15,
    "start_time": "2022-05-10T03:22:01.576Z"
   },
   {
    "duration": 68,
    "start_time": "2022-05-10T03:22:01.593Z"
   },
   {
    "duration": 163,
    "start_time": "2022-05-10T03:22:01.663Z"
   },
   {
    "duration": 281,
    "start_time": "2022-05-10T03:22:01.829Z"
   },
   {
    "duration": 119,
    "start_time": "2022-05-10T03:22:02.113Z"
   },
   {
    "duration": 431,
    "start_time": "2022-05-10T03:22:02.235Z"
   },
   {
    "duration": 54551,
    "start_time": "2022-05-10T03:22:02.669Z"
   },
   {
    "duration": 46,
    "start_time": "2022-05-10T03:22:57.223Z"
   },
   {
    "duration": 252,
    "start_time": "2022-05-10T03:22:57.272Z"
   },
   {
    "duration": 1471,
    "start_time": "2022-05-10T03:22:57.528Z"
   },
   {
    "duration": 118722,
    "start_time": "2022-05-10T03:22:59.001Z"
   },
   {
    "duration": 738,
    "start_time": "2022-05-10T03:24:57.725Z"
   },
   {
    "duration": 25,
    "start_time": "2022-05-10T03:24:58.465Z"
   },
   {
    "duration": 89,
    "start_time": "2022-05-10T03:24:58.495Z"
   },
   {
    "duration": 20220,
    "start_time": "2022-05-10T03:24:58.586Z"
   },
   {
    "duration": 2320,
    "start_time": "2022-05-10T03:25:18.808Z"
   },
   {
    "duration": 58,
    "start_time": "2022-05-10T03:25:21.130Z"
   },
   {
    "duration": 91,
    "start_time": "2022-05-10T03:25:21.190Z"
   },
   {
    "duration": 197,
    "start_time": "2022-05-10T03:25:21.283Z"
   },
   {
    "duration": 2785,
    "start_time": "2022-05-10T03:25:43.167Z"
   },
   {
    "duration": 73,
    "start_time": "2022-05-10T20:58:43.811Z"
   },
   {
    "duration": 2232,
    "start_time": "2022-05-10T20:58:50.361Z"
   },
   {
    "duration": 46,
    "start_time": "2022-05-10T20:58:52.595Z"
   },
   {
    "duration": 29,
    "start_time": "2022-05-10T20:58:52.643Z"
   },
   {
    "duration": 57,
    "start_time": "2022-05-10T20:58:52.674Z"
   },
   {
    "duration": 32,
    "start_time": "2022-05-10T20:58:52.733Z"
   },
   {
    "duration": 11,
    "start_time": "2022-05-10T20:58:52.767Z"
   },
   {
    "duration": 20,
    "start_time": "2022-05-10T20:58:52.780Z"
   },
   {
    "duration": 5,
    "start_time": "2022-05-10T20:58:52.802Z"
   },
   {
    "duration": 55,
    "start_time": "2022-05-10T20:58:52.809Z"
   },
   {
    "duration": 10,
    "start_time": "2022-05-10T20:58:52.869Z"
   },
   {
    "duration": 9,
    "start_time": "2022-05-10T20:58:52.882Z"
   },
   {
    "duration": 67,
    "start_time": "2022-05-10T20:58:52.894Z"
   },
   {
    "duration": 198,
    "start_time": "2022-05-10T20:58:52.964Z"
   },
   {
    "duration": 7,
    "start_time": "2022-05-10T20:58:53.164Z"
   },
   {
    "duration": 144,
    "start_time": "2022-05-10T20:58:53.173Z"
   },
   {
    "duration": 21,
    "start_time": "2022-05-10T20:59:19.565Z"
   },
   {
    "duration": 342,
    "start_time": "2022-05-10T21:06:56.521Z"
   },
   {
    "duration": 918,
    "start_time": "2022-05-10T21:07:07.266Z"
   },
   {
    "duration": 58476,
    "start_time": "2022-05-10T21:08:05.109Z"
   },
   {
    "duration": 1972,
    "start_time": "2022-05-10T21:17:44.596Z"
   },
   {
    "duration": 44,
    "start_time": "2022-05-10T21:17:46.571Z"
   },
   {
    "duration": 37,
    "start_time": "2022-05-10T21:17:46.617Z"
   },
   {
    "duration": 60,
    "start_time": "2022-05-10T21:17:46.657Z"
   },
   {
    "duration": 45,
    "start_time": "2022-05-10T21:17:46.719Z"
   },
   {
    "duration": 11,
    "start_time": "2022-05-10T21:17:46.767Z"
   },
   {
    "duration": 42,
    "start_time": "2022-05-10T21:17:46.780Z"
   },
   {
    "duration": 16,
    "start_time": "2022-05-10T21:17:46.825Z"
   },
   {
    "duration": 21,
    "start_time": "2022-05-10T21:17:46.844Z"
   },
   {
    "duration": 11,
    "start_time": "2022-05-10T21:17:46.871Z"
   },
   {
    "duration": 24,
    "start_time": "2022-05-10T21:17:46.887Z"
   },
   {
    "duration": 48,
    "start_time": "2022-05-10T21:17:46.913Z"
   },
   {
    "duration": 208,
    "start_time": "2022-05-10T21:17:46.964Z"
   },
   {
    "duration": 7,
    "start_time": "2022-05-10T21:17:47.174Z"
   },
   {
    "duration": 23,
    "start_time": "2022-05-10T21:17:47.183Z"
   },
   {
    "duration": 67,
    "start_time": "2022-05-10T21:17:47.208Z"
   },
   {
    "duration": 275,
    "start_time": "2022-05-10T21:17:47.277Z"
   },
   {
    "duration": 1098,
    "start_time": "2022-05-10T21:17:47.555Z"
   },
   {
    "duration": 64247,
    "start_time": "2022-05-10T21:17:52.495Z"
   },
   {
    "duration": 820779,
    "start_time": "2022-05-10T21:19:58.477Z"
   },
   {
    "duration": 288561,
    "start_time": "2022-05-10T21:36:07.507Z"
   },
   {
    "duration": 2024,
    "start_time": "2022-05-10T22:35:26.677Z"
   },
   {
    "duration": 44,
    "start_time": "2022-05-10T22:35:28.704Z"
   },
   {
    "duration": 27,
    "start_time": "2022-05-10T22:35:28.750Z"
   },
   {
    "duration": 77,
    "start_time": "2022-05-10T22:35:28.780Z"
   },
   {
    "duration": 17,
    "start_time": "2022-05-10T22:35:28.860Z"
   },
   {
    "duration": 10,
    "start_time": "2022-05-10T22:35:28.880Z"
   },
   {
    "duration": 23,
    "start_time": "2022-05-10T22:35:28.892Z"
   },
   {
    "duration": 38,
    "start_time": "2022-05-10T22:35:28.918Z"
   },
   {
    "duration": 26,
    "start_time": "2022-05-10T22:35:28.959Z"
   },
   {
    "duration": 9,
    "start_time": "2022-05-10T22:35:28.988Z"
   },
   {
    "duration": 8,
    "start_time": "2022-05-10T22:35:29.000Z"
   },
   {
    "duration": 57,
    "start_time": "2022-05-10T22:35:29.010Z"
   },
   {
    "duration": 208,
    "start_time": "2022-05-10T22:35:29.069Z"
   },
   {
    "duration": 7,
    "start_time": "2022-05-10T22:35:29.279Z"
   },
   {
    "duration": 24,
    "start_time": "2022-05-10T22:35:29.288Z"
   },
   {
    "duration": 62,
    "start_time": "2022-05-10T22:35:29.314Z"
   },
   {
    "duration": 93,
    "start_time": "2022-05-10T22:35:29.378Z"
   },
   {
    "duration": 909,
    "start_time": "2022-05-10T22:35:29.552Z"
   },
   {
    "duration": 597373,
    "start_time": "2022-05-10T22:35:35.014Z"
   },
   {
    "duration": 44,
    "start_time": "2022-05-10T23:27:42.741Z"
   },
   {
    "duration": 487,
    "start_time": "2022-05-10T23:28:11.791Z"
   },
   {
    "duration": 30,
    "start_time": "2022-05-10T23:58:24.419Z"
   },
   {
    "duration": 1875,
    "start_time": "2022-05-11T02:00:11.832Z"
   },
   {
    "duration": 43,
    "start_time": "2022-05-11T02:00:13.710Z"
   },
   {
    "duration": 24,
    "start_time": "2022-05-11T02:00:13.755Z"
   },
   {
    "duration": 76,
    "start_time": "2022-05-11T02:00:13.782Z"
   },
   {
    "duration": 15,
    "start_time": "2022-05-11T02:00:13.861Z"
   },
   {
    "duration": 10,
    "start_time": "2022-05-11T02:00:13.879Z"
   },
   {
    "duration": 21,
    "start_time": "2022-05-11T02:00:13.891Z"
   },
   {
    "duration": 38,
    "start_time": "2022-05-11T02:00:13.914Z"
   },
   {
    "duration": 16,
    "start_time": "2022-05-11T02:00:13.954Z"
   },
   {
    "duration": 10,
    "start_time": "2022-05-11T02:00:13.973Z"
   },
   {
    "duration": 11,
    "start_time": "2022-05-11T02:00:13.984Z"
   },
   {
    "duration": 55,
    "start_time": "2022-05-11T02:00:13.998Z"
   },
   {
    "duration": 193,
    "start_time": "2022-05-11T02:00:14.056Z"
   },
   {
    "duration": 7,
    "start_time": "2022-05-11T02:00:14.251Z"
   },
   {
    "duration": 23,
    "start_time": "2022-05-11T02:00:14.260Z"
   },
   {
    "duration": 38,
    "start_time": "2022-05-11T02:00:14.285Z"
   },
   {
    "duration": 227,
    "start_time": "2022-05-11T02:00:14.325Z"
   },
   {
    "duration": 851,
    "start_time": "2022-05-11T02:00:14.555Z"
   },
   {
    "duration": 559121,
    "start_time": "2022-05-11T02:00:29.888Z"
   },
   {
    "duration": 224,
    "start_time": "2022-05-11T02:12:48.702Z"
   },
   {
    "duration": 35,
    "start_time": "2022-05-11T02:13:04.476Z"
   },
   {
    "duration": 460,
    "start_time": "2022-05-11T02:14:36.800Z"
   },
   {
    "duration": 23,
    "start_time": "2022-05-11T02:14:46.884Z"
   },
   {
    "duration": 102,
    "start_time": "2022-05-11T02:15:54.571Z"
   },
   {
    "duration": 475,
    "start_time": "2022-05-11T02:17:02.170Z"
   },
   {
    "duration": 23,
    "start_time": "2022-05-11T02:17:47.286Z"
   },
   {
    "duration": 178,
    "start_time": "2022-05-11T02:17:55.654Z"
   },
   {
    "duration": 476,
    "start_time": "2022-05-11T02:31:39.580Z"
   },
   {
    "duration": 88,
    "start_time": "2022-05-11T02:31:50.455Z"
   },
   {
    "duration": 99,
    "start_time": "2022-05-11T02:31:57.219Z"
   }
  ],
  "kernelspec": {
   "display_name": "Python 3 (ipykernel)",
   "language": "python",
   "name": "python3"
  },
  "language_info": {
   "codemirror_mode": {
    "name": "ipython",
    "version": 3
   },
   "file_extension": ".py",
   "mimetype": "text/x-python",
   "name": "python",
   "nbconvert_exporter": "python",
   "pygments_lexer": "ipython3",
   "version": "3.9.7"
  },
  "toc": {
   "base_numbering": 1,
   "nav_menu": {},
   "number_sections": false,
   "sideBar": true,
   "skip_h1_title": true,
   "title_cell": "Table of Contents",
   "title_sidebar": "Contents",
   "toc_cell": false,
   "toc_position": {
    "height": "calc(100% - 180px)",
    "left": "10px",
    "top": "150px",
    "width": "198.477px"
   },
   "toc_section_display": true,
   "toc_window_display": false
  }
 },
 "nbformat": 4,
 "nbformat_minor": 2
}
